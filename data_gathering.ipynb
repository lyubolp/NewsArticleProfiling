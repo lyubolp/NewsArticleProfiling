{
 "cells": [
  {
   "cell_type": "code",
   "execution_count": 41,
   "metadata": {
    "collapsed": true,
    "pycharm": {
     "name": "#%%\n"
    }
   },
   "outputs": [],
   "source": [
    "import feedparser\n",
    "import pandas as pd\n",
    "import requests\n",
    "import os\n",
    "import tldextract\n",
    "\n",
    "from bs4 import BeautifulSoup, element\n",
    "from functools import reduce\n",
    "from typing import List\n"
   ]
  },
  {
   "cell_type": "code",
   "execution_count": 26,
   "outputs": [
    {
     "data": {
      "text/plain": "                                 newspaper newspaperLabel idealogyLabel  \\\n0   http://www.wikidata.org/entity/Q461884    A Szabadság     communism   \n1  http://www.wikidata.org/entity/Q1751826     La Segunda    right-wing   \n2  http://www.wikidata.org/entity/Q1815813     Yeni Şafak    right-wing   \n3   http://www.wikidata.org/entity/Q183644         Pravda     communism   \n4   http://www.wikidata.org/entity/Q183644         Pravda     communism   \n\n                          link  countryLabel  \n0    http://www.aszabadasag.hu       Hungary  \n1    http://www.lasegunda.com/         Chile  \n2     http://www.yenisafak.com        Turkey  \n3  http://www.gazeta-pravda.ru        Russia  \n4  http://www.gazeta-pravda.ru  Soviet Union  ",
      "text/html": "<div>\n<style scoped>\n    .dataframe tbody tr th:only-of-type {\n        vertical-align: middle;\n    }\n\n    .dataframe tbody tr th {\n        vertical-align: top;\n    }\n\n    .dataframe thead th {\n        text-align: right;\n    }\n</style>\n<table border=\"1\" class=\"dataframe\">\n  <thead>\n    <tr style=\"text-align: right;\">\n      <th></th>\n      <th>newspaper</th>\n      <th>newspaperLabel</th>\n      <th>idealogyLabel</th>\n      <th>link</th>\n      <th>countryLabel</th>\n    </tr>\n  </thead>\n  <tbody>\n    <tr>\n      <th>0</th>\n      <td>http://www.wikidata.org/entity/Q461884</td>\n      <td>A Szabadság</td>\n      <td>communism</td>\n      <td>http://www.aszabadasag.hu</td>\n      <td>Hungary</td>\n    </tr>\n    <tr>\n      <th>1</th>\n      <td>http://www.wikidata.org/entity/Q1751826</td>\n      <td>La Segunda</td>\n      <td>right-wing</td>\n      <td>http://www.lasegunda.com/</td>\n      <td>Chile</td>\n    </tr>\n    <tr>\n      <th>2</th>\n      <td>http://www.wikidata.org/entity/Q1815813</td>\n      <td>Yeni Şafak</td>\n      <td>right-wing</td>\n      <td>http://www.yenisafak.com</td>\n      <td>Turkey</td>\n    </tr>\n    <tr>\n      <th>3</th>\n      <td>http://www.wikidata.org/entity/Q183644</td>\n      <td>Pravda</td>\n      <td>communism</td>\n      <td>http://www.gazeta-pravda.ru</td>\n      <td>Russia</td>\n    </tr>\n    <tr>\n      <th>4</th>\n      <td>http://www.wikidata.org/entity/Q183644</td>\n      <td>Pravda</td>\n      <td>communism</td>\n      <td>http://www.gazeta-pravda.ru</td>\n      <td>Soviet Union</td>\n    </tr>\n  </tbody>\n</table>\n</div>"
     },
     "execution_count": 26,
     "metadata": {},
     "output_type": "execute_result"
    }
   ],
   "source": [
    "newspapers_all = pd.read_csv('newspapers.csv')\n",
    "newspapers_all.head()"
   ],
   "metadata": {
    "collapsed": false,
    "pycharm": {
     "name": "#%%\n"
    }
   }
  },
  {
   "cell_type": "code",
   "execution_count": 27,
   "outputs": [
    {
     "data": {
      "text/plain": "0                         conservatism\n1                           liberalism\n2                            left-wing\n3                           right-wing\n4                            communism\n5                          centre-left\n6                         centre-right\n7                     social democracy\n8    conservatism in the United States\n9                             centrism\nName: idealogyLabel, dtype: object"
     },
     "execution_count": 27,
     "metadata": {},
     "output_type": "execute_result"
    }
   ],
   "source": [
    "idealogies = pd.read_csv('query.csv').head(n=10)['idealogyLabel']\n",
    "idealogies"
   ],
   "metadata": {
    "collapsed": false,
    "pycharm": {
     "name": "#%%\n"
    }
   }
  },
  {
   "cell_type": "code",
   "execution_count": 28,
   "outputs": [
    {
     "data": {
      "text/plain": "           newspaperLabel                      idealogyLabel  \\\n15              Habertürk                       conservatism   \n16          Star Gazetesi                       conservatism   \n20                O Globo                       conservatism   \n21              El Diario                       conservatism   \n22             La Segunda                       conservatism   \n..                    ...                                ...   \n144  The Washington Times  conservatism in the United States   \n145  The Washington Times  conservatism in the United States   \n23        Hindustan Times                           centrism   \n24        Gazeta Wyborcza                           centrism   \n73               The Hill                           centrism   \n\n                                link  \n15         https://www.haberturk.com  \n16          https://www.star.com.tr/  \n20         http://www.oglobo.com.br/  \n21         https://www.eldiario.net/  \n22         http://www.lasegunda.com/  \n..                               ...  \n144  http://www.washingtontimes.com/  \n145        http://www.washtimes.com/  \n23     http://www.hindustantimes.com  \n24               http://wyborcza.pl/  \n73              https://thehill.com/  \n\n[83 rows x 3 columns]",
      "text/html": "<div>\n<style scoped>\n    .dataframe tbody tr th:only-of-type {\n        vertical-align: middle;\n    }\n\n    .dataframe tbody tr th {\n        vertical-align: top;\n    }\n\n    .dataframe thead th {\n        text-align: right;\n    }\n</style>\n<table border=\"1\" class=\"dataframe\">\n  <thead>\n    <tr style=\"text-align: right;\">\n      <th></th>\n      <th>newspaperLabel</th>\n      <th>idealogyLabel</th>\n      <th>link</th>\n    </tr>\n  </thead>\n  <tbody>\n    <tr>\n      <th>15</th>\n      <td>Habertürk</td>\n      <td>conservatism</td>\n      <td>https://www.haberturk.com</td>\n    </tr>\n    <tr>\n      <th>16</th>\n      <td>Star Gazetesi</td>\n      <td>conservatism</td>\n      <td>https://www.star.com.tr/</td>\n    </tr>\n    <tr>\n      <th>20</th>\n      <td>O Globo</td>\n      <td>conservatism</td>\n      <td>http://www.oglobo.com.br/</td>\n    </tr>\n    <tr>\n      <th>21</th>\n      <td>El Diario</td>\n      <td>conservatism</td>\n      <td>https://www.eldiario.net/</td>\n    </tr>\n    <tr>\n      <th>22</th>\n      <td>La Segunda</td>\n      <td>conservatism</td>\n      <td>http://www.lasegunda.com/</td>\n    </tr>\n    <tr>\n      <th>...</th>\n      <td>...</td>\n      <td>...</td>\n      <td>...</td>\n    </tr>\n    <tr>\n      <th>144</th>\n      <td>The Washington Times</td>\n      <td>conservatism in the United States</td>\n      <td>http://www.washingtontimes.com/</td>\n    </tr>\n    <tr>\n      <th>145</th>\n      <td>The Washington Times</td>\n      <td>conservatism in the United States</td>\n      <td>http://www.washtimes.com/</td>\n    </tr>\n    <tr>\n      <th>23</th>\n      <td>Hindustan Times</td>\n      <td>centrism</td>\n      <td>http://www.hindustantimes.com</td>\n    </tr>\n    <tr>\n      <th>24</th>\n      <td>Gazeta Wyborcza</td>\n      <td>centrism</td>\n      <td>http://wyborcza.pl/</td>\n    </tr>\n    <tr>\n      <th>73</th>\n      <td>The Hill</td>\n      <td>centrism</td>\n      <td>https://thehill.com/</td>\n    </tr>\n  </tbody>\n</table>\n<p>83 rows × 3 columns</p>\n</div>"
     },
     "execution_count": 28,
     "metadata": {},
     "output_type": "execute_result"
    }
   ],
   "source": [
    "result = [newspapers_all[newspapers_all['idealogyLabel'] == idealogy] for idealogy in idealogies]\n",
    "newspapers = reduce(lambda acc, item: pd.concat([acc, item]), result[1:], result[0])\n",
    "newspapers = newspapers[['newspaperLabel', 'idealogyLabel', 'link']]\n",
    "newspapers"
   ],
   "metadata": {
    "collapsed": false,
    "pycharm": {
     "name": "#%%\n"
    }
   }
  },
  {
   "cell_type": "code",
   "execution_count": 29,
   "outputs": [
    {
     "data": {
      "text/plain": "15           https://www.haberturk.com\n16            https://www.star.com.tr/\n20           http://www.oglobo.com.br/\n21           https://www.eldiario.net/\n22           http://www.lasegunda.com/\n                    ...               \n144    http://www.washingtontimes.com/\n145          http://www.washtimes.com/\n23       http://www.hindustantimes.com\n24                 http://wyborcza.pl/\n73                https://thehill.com/\nName: link, Length: 83, dtype: object"
     },
     "execution_count": 29,
     "metadata": {},
     "output_type": "execute_result"
    }
   ],
   "source": [
    "websites_to_scrape = newspapers['link']\n",
    "websites_to_scrape"
   ],
   "metadata": {
    "collapsed": false,
    "pycharm": {
     "name": "#%%\n"
    }
   }
  },
  {
   "cell_type": "code",
   "execution_count": 6,
   "outputs": [],
   "source": [
    "def is_website_reachable(website):\n",
    "    try:\n",
    "        res = requests.get(website)\n",
    "    except:\n",
    "        return False\n",
    "\n",
    "    return res.status_code == 200\n",
    "\n",
    "websites_to_scrape = websites_to_scrape[websites_to_scrape.map(is_website_reachable)]"
   ],
   "metadata": {
    "collapsed": false,
    "pycharm": {
     "name": "#%%\n"
    }
   }
  },
  {
   "cell_type": "code",
   "execution_count": 7,
   "outputs": [
    {
     "data": {
      "text/plain": "15                             https://www.haberturk.com\n16                              https://www.star.com.tr/\n20                             http://www.oglobo.com.br/\n21                             https://www.eldiario.net/\n22                             http://www.lasegunda.com/\n                             ...                        \n143    http://search.ebscohost.com/direct.asp?db=bwh&...\n144                      http://www.washingtontimes.com/\n145                            http://www.washtimes.com/\n24                                   http://wyborcza.pl/\n73                                  https://thehill.com/\nName: link, Length: 66, dtype: object"
     },
     "execution_count": 7,
     "metadata": {},
     "output_type": "execute_result"
    }
   ],
   "source": [
    "websites_to_scrape"
   ],
   "metadata": {
    "collapsed": false,
    "pycharm": {
     "name": "#%%\n"
    }
   }
  },
  {
   "cell_type": "code",
   "execution_count": 5,
   "outputs": [],
   "source": [
    "def save_article(article: List[str], source: str):\n",
    "    dirname = os.path.join('data', source)\n",
    "    os.makedirs(dirname, exist_ok=True)\n",
    "\n",
    "    filename = str(len([name for name in os.listdir(dirname)]) + 1) + '.txt'\n",
    "\n",
    "    with open(os.path.join(dirname, filename), 'w') as f:\n",
    "        f.writelines(article)"
   ],
   "metadata": {
    "collapsed": false,
    "pycharm": {
     "name": "#%%\n"
    }
   }
  },
  {
   "cell_type": "code",
   "execution_count": 4,
   "outputs": [],
   "source": [
    "# Scrapers\n",
    "def article_p(URL):\n",
    "    page = requests.get(URL)\n",
    "    soup = BeautifulSoup(page.content, \"html.parser\")\n",
    "    if len(soup.find_all('article')) == 0:\n",
    "        print(f'Skipping {URL}')\n",
    "        return None\n",
    "\n",
    "    article = soup.find_all('article')[0]\n",
    "    ps = article.find_all('p')\n",
    "\n",
    "    text = []\n",
    "    for p in ps:\n",
    "        current_paragraph = [content for content in p.contents if len(content) > 0 and type(content) == element.NavigableString]\n",
    "\n",
    "        for item in current_paragraph:\n",
    "            text.append(item)\n",
    "\n",
    "    return text"
   ],
   "metadata": {
    "collapsed": false,
    "pycharm": {
     "name": "#%%\n"
    }
   }
  },
  {
   "cell_type": "code",
   "execution_count": 3,
   "outputs": [],
   "source": [
    "# Scrapers\n",
    "def div_p(URL, cls=None, id=None):\n",
    "    page = requests.get(URL)\n",
    "    soup = BeautifulSoup(page.content, \"html.parser\")\n",
    "\n",
    "    if cls is None and id is None:\n",
    "        content = soup.find_all('div')\n",
    "    elif cls is not None:\n",
    "        content = soup.find_all('div', class_=cls)\n",
    "    else:\n",
    "        content = soup.find_all('div', id=id)\n",
    "\n",
    "    if len(content) == 0:\n",
    "        print(f'Skipping {URL}')\n",
    "        return None\n",
    "\n",
    "    article = content[0]\n",
    "    ps = article.find_all('p')\n",
    "\n",
    "    text = []\n",
    "    for p in ps:\n",
    "        current_paragraph = [content for content in p.contents if len(content) > 0 and type(content) == element.NavigableString]\n",
    "\n",
    "        for item in current_paragraph:\n",
    "            text.append(item)\n",
    "\n",
    "    return text"
   ],
   "metadata": {
    "collapsed": false,
    "pycharm": {
     "name": "#%%\n"
    }
   }
  },
  {
   "cell_type": "code",
   "execution_count": 24,
   "outputs": [
    {
     "name": "stdout",
     "output_type": "stream",
     "text": [
      "Parsing https://jungle.world/artikel/2022/25/soziale-plicht\n",
      "Parsing https://jungle.world/artikel/2022/25/soziale-plicht\n",
      "Parsing https://jungle.world/artikel/2022/25/vom-guerillero-zum-praesidenten\n",
      "Parsing https://jungle.world/artikel/2022/25/wie-schlechtes-wetter\n",
      "Parsing https://jungle.world/artikel/2022/25/zentrales-sprachrohr-der-ns-propaganda\n",
      "Parsing https://jungle.world/artikel/2022/25/rechte-schlagseite\n",
      "Parsing https://jungle.world/artikel/2022/25/und-jetzt-den-mussolini\n",
      "Parsing https://jungle.world/artikel/2022/25/hassprediger-gottes\n",
      "Parsing https://jungle.world/artikel/2022/25/der-ehrliche-makler-steckt-der-klemme\n",
      "Parsing https://jungle.world/artikel/2022/25/hirntot-gegen-putin\n",
      "Parsed 10 of articles\n"
     ]
    }
   ],
   "source": [
    "feed = feedparser.parse('https://jungle.world/rss.xml')\n",
    "website_name = 'jungle-world'\n",
    "\n",
    "if os.path.exists(os.path.join('data', website_name)):\n",
    "    raise Exception(\"Directory already exists\")\n",
    "\n",
    "amount = 0\n",
    "for link in [entry['link'] for entry in feed['entries']]:\n",
    "    print(f'Parsing {link}')\n",
    "    # parsed = article_p(link)\n",
    "    parsed = div_p(link, cls='row_bak')\n",
    "    if parsed is not None:\n",
    "        save_article(parsed, website_name)\n",
    "        amount += 1\n",
    "\n",
    "print(f'Parsed {amount} of articles')"
   ],
   "metadata": {
    "collapsed": false,
    "pycharm": {
     "name": "#%%\n"
    }
   }
  },
  {
   "cell_type": "code",
   "execution_count": 23,
   "outputs": [
    {
     "data": {
      "text/plain": "['Seit die Wehrpflicht für Männer in Deutschland 2011 ausgesetzt wurde, wird alle paar Jahre wieder über einen Ersatz diskutiert: ein verpflichtender Arbeitsdienst für alle, der dem Gemeinwesen dienen soll. Bundespräsident Frank-Walter Steinmeier hat die Idee kürzlich unter dem Namen »soziale Dienstpflicht« wieder zur Diskussion gestellt. Die Argumente sind nicht neu: Das Pflichtjahr soll den Gemeinsinn stärken, den Austausch mit Menschen anregen, die man sonst nicht treffen würde, und nicht zuletzt soll es solidarisches Verhalten fördern. Durch Zwang soll also Gutes entstehen.',\n 'Ganz abwegig ist der Gedanke nicht. Es ist keinesfalls auszuschließen, dass eine Dienstpflicht, so paradox es wegen ihres Zwangscharakters zunächst klingen mag, emanzipatorische Effekte zeitigen würde. Sie könnte beispielswei\\xadse Männer dazu bringen, sich auch einmal mit Care-Tätigkeiten zu beschäftigen, die bei freiwilligem Engagement vorwiegend Frauen erledigen, denen das in ihrer Sozialisation viel eher nahegelegt wird. Der Frauenanteil beim Freiwilligen Sozialen Jahr lag seit 2011 stets bei rund 64\\xa0Prozent.',\n 'Der Frauenanteil beim Frei\\xadwilligen Sozialen Jahr lag seit 2011 stets bei rund 64 Prozent.',\n 'Überhaupt sind Gesetze nicht grundsätzlich als Mittel untauglich, um kollektive Verhaltensveränderungen zum Besseren zu bewirken. Regelungen wie das Rauchverbot haben die nicht rauchenden Bevölkerungsgruppen gesundheitlich entlastet und ein gesetzlich eingeführter »Veggie Day« würde den zerstörerischen Fleischkonsum merklich eindämmen. Trotzdem ist die soziale Dienstpflicht aus emanzipatorischer Sicht abzulehnen. Und zwar im Wesentlichen aus drei Gründen.',\n 'Erstens gehört es zur Ideologie des bürgerlichen Staats, dass mit Rechten stets Pflichten einhergehen müssen. Diese Ansicht wird bis weit ins liberale und linke Lager von Theoretikern wie Jürgen Habermas und Wolfgang Streeck geteilt, die in diesem Sinne nicht nur die Steuer-, sondern auch die Wehrpflicht als Pendant zu staatsbürgerlichen Rechten interpretiert haben. Diese Tauschlogik ist fragwürdig, denn Grundrechte stehen allen zu, auch ohne Gegenleistung.',\n 'Nicht nur erscheint in dieser Konzeption das verbriefte Recht als Belohnung für eine Pflichterfüllung; es wird darüber hinaus unterstellt, der Pflicht nachzukommen, veredele die Praxis und bringe den besseren, nämlich den gemeinwohlorientiert und solidarisch handelnden Menschen hervor. Das ist aber keineswegs erwiesen. Ein solcher Nachweis wäre allerdings zu fordern, um einen pauschalen staatlichen Eingriff in Biographien der Bürgerinnen und Bürger zu rechtfertigen. Eine soziale Dienstpflicht geht schließlich viel weiter als Rauchverbot oder »Veggie Day« und greift in kollektive und individuelle Lebensplanungen ein.',\n 'Sich für andere einzusetzen und sein Verhalten am Wohl aller auszurichten, gelingt eher, wenn die Voraussetzungen dafür gut sind. Die kulturellen, sozialen und auch ökonomischen Möglichkeiten dafür zu fördern, wäre sinnvoller als eine Zwangsmaßnahme.',\n 'Der zweite Grund, die Dienstpflicht abzulehnen, knüpft an den ersten an. Soziales Engagement ist nämlich nicht allen gleichermaßen möglich. Die Ansicht, dass nach der Schule und vor dem Studium ein bisschen staatlich verordnete Orientierung am Gemeinwohl nicht schaden könne, basiert ja auf einer sehr selektiven Wahrnehmung des Sozialen. Es gibt Bevölkerungsgruppen, Frauen beispielsweise, die mit Sorge- und Pflegearbeit ohnehin allerhand zu tun haben. Und es gibt Milieus, in denen jede Zeit fürs Geldverdienen gebraucht wird. Die Klassenspaltung würde durch die Dienstpflicht nicht ausgeglichen, wie bei der Schulpflicht zumindest dem Prinzip nach, sondern vertieft. Eine für alle Menschen einer Alterskohorte gleichermaßen geltende Pflicht würde folglich die ohnehin Benachteiligten weiter diskriminieren.',\n 'Mit der Einführung einer Dienstpflicht würde, drittens, der Pflegenotstand kaschiert und das strukturelle Problem der nicht rentablen Reproduktionsarbeit verstetigt. Solidarisches Handeln sollte nicht auf eine Frage der Moral reduziert und schon gar nicht durch Verpflichtung erzwungen werden. Um Gutes tun zu können, bedarf es institutioneller Rahmenbedingungen, die es begünstigen. Anders gesagt: Damit es in einer Gesellschaft zumindest graduell gemeinwohlorientierter und solidarischer zugeht, braucht es keine Dienstpflicht, sondern besser (oder überhaupt) bezahlte und allgemein wertgeschätzte Pflege-, Care- und Reproduktionsarbeit. Mit diesem Argument lehnt schließlich auch die Dienstleistungsgewerkschaft Verdi den Pflichtdienst ab.',\n '\\xa0',\n 'An einer gesetzlich vorgeschriebenen Dienstpflicht für junge Menschen gibt es, grob gesprochen, drei Arten von Kritik. Die eine zielt auf die Umsetzung und stellt folgende Fragen: Werden die Diensttuenden ausreichend finanziell ausgestattet, damit jene, die keine elterliche Unterstützung bekommen, ihr Pflichtjahr nicht in Armut verbringen müssen? Warum zielt man nur auf junge Menschen, warum kann man nicht, wie in Frankreich, die Möglichkeit schaffen, für die letzten beiden Jahre vor dem Renteneintritt in eine soziale Einrichtung zu wechseln, um dort zu arbeiten? Wie wird verhindert, dass ein verpflichtendes sogenanntes Soziales Jahr da\\xadzu führt, ungelernten Kräften die Fachpflege aufzubürden? All das sind wichtige Fragen.',\n 'Die zweite Art von Kritik beklagt grundsätzlicher, »junge Leute müssten ein Jahr lang dem Staat dienen, und zwar nach dessen Regeln« (Sascha Lobo bei Spiegel Online). An dem Satz ist jede Prämisse falsch: Der Staat gibt nicht die Regeln vor, er sorgt für Rahmenbedingungen. Es wird auch nicht dem Staat zugearbeitet, sondern der Gesellschaft. Unklar ist auch, woher diese Polemik gegen die »Dienerschaft« kommt (wahlweise auch Knechtschaft, Leibeigenschaft, Reichsarbeitsdienst). Vielen ist gerade die Möglichkeit, zwischen der Schulpflicht und den sie erwartenden noch härteren Verpflichtungen auf dem Arbeitsmarkt ein Jahr innezuhalten und zu schauen, wie es weitergeht, hochwillkommen.',\n 'Die Professionalisierung hat auch zu einer Rationalisierung geführt: Das Nötigste wird gemacht. So sind die Kennzahlen der Pflege erfüllt, nicht aber die Bedürfnisse der Betroffenen.',\n 'Es scheint, als hätten sich die neoliberalen Vorstellungen von Sorgearbeit vollständig in den Köpfen festgesetzt. Dafür spricht die Kritik der dritten Sorte, die vorgeblich für die Pflege Partei ergreift und teilweise auch von Pflegenden selbst vorgebracht wird: Es müsse doch eher das Ziel sein, heißt es, die Pflege finanziell derart auszustatten, dass alle Sorgeaufgaben von professionellen Kräften erledigt werden können. Überhaupt haben Kranke, Alte und Menschen mit Behinderung nur das Beste verdient, und das heiße Pflegende mit Ausbildung, die wissen, was sie tun. Oder anhand von Kriterienkatalogen abhaken können, was sie getan haben; darauf nämlich läuft Professionalisierung oft hinaus.',\n 'Schon die Forderung, soziale Arbeit und Pflege ausschließlich in die Hände von spezialisierten Arbeitern zu geben, ist fragwürdig. Es schließt die Vorstellung einer Gesellschaft mit ein, in der jede Sorge für andere Menschen entlohnte Arbeit ist, anstatt eine Grundlage des gesellschaftlichen Lebens darzustellen, die sich nicht vollständig auslagern lässt. Die voranschreitende Professionalisierung der Pflege hat auch zu einer Rationalisierung geführt: Das Nötigste wird gemacht. Für mehr ist weder Zeit noch Personal da. So werden die Kennzahlen der Pflege erfüllt, nicht aber die Bedürfnisse der Betroffenen.',\n 'In einer vom Bundesministerium für Familie, Senioren, Frauen und Jugend (BMFSFJ) in Auftrag gegebenen Studie heißt es: »Im Sommer 2020 lag der Anteil einsamer Menschen im \\xadAlter von 46 bis 90 Jahren bei knapp 14\\xa0Prozent und damit 1,5mal höher als in den Befragungsjahren 2014 und 2017.« Bei über 80jährigen sind es 20\\xa0Prozent. Diese Einsamkeit wird sich in einer alternden Gesellschaft verschlimmern, die Unterversorgung auch.',\n 'Wen juckt’s? Wenn überhaupt, dann die Angehörigen der Pflegebedürftigen: Mütter, Töchter, Eheleute. Sie sind es, die die soziale Isolation verhindern. In Deutschland sind das je nach Schätzung zwischen 2,5 und 4,7\\xa0Millionen Menschen, von denen wiederum 70\\xa0Prozent sagen, sie seien stark belastet. Ihnen etwas Sorge abzunehmen, müsste eines der Hauptziele jeder Sozialpolitik sein.',\n 'Pflege und Sorgearbeit werden derzeit zu einer rein staatlichen Aufgabe erklärt. Aber Teilhabe an der Gesellschaft ist nichts, was man als Dienstleistung zum Basispaket Überleben beim unternehmerischen Staat dazubucht; es geht um menschlichen \\xadKontakt und Umgang, für den man Freiräume und Gelegenheiten schaffen muss. Ein soziales Pflichtjahr könnte solche Freiräume schaffen, zumindest wäre es ein Anfang.']"
     },
     "execution_count": 23,
     "metadata": {},
     "output_type": "execute_result"
    }
   ],
   "source": [
    "div_p('https://jungle.world/artikel/2022/25/soziale-plicht', cls='row_bak')"
   ],
   "metadata": {
    "collapsed": false,
    "pycharm": {
     "name": "#%%\n"
    }
   }
  },
  {
   "cell_type": "code",
   "execution_count": 35,
   "outputs": [
    {
     "data": {
      "text/plain": "                            Website Has RSS?  \\\n1              http://dailywire.com      Yes   \n3             http://jornada.com.mx      Yes   \n4             http://nzherald.co.nz      Yes   \n5  http://observer.theguardian.com/      Yes   \n8          http://www.arbejderen.dk      Yes   \n\n                                            RSS link How to parse ? Parsed ?  \\\n1            https://www.dailywire.com/feeds/rss.xml   article -> p      Yes   \n3     https://web.jornada.com.mx/rss/edicion.xml?v=1   article -> p      Yes   \n4  https://www.nzherald.co.nz/arc/outboundfeeds/r...   article -> p      Yes   \n5                 https://www.theguardian.com/uk/rss   article -> p      Yes   \n8                          https://arbejderen.dk/rss       div -> p      Yes   \n\n   # Articles                              link  \n1        50.0              http://dailywire.com  \n3       123.0             http://jornada.com.mx  \n4        10.0             http://nzherald.co.nz  \n5       114.0  http://observer.theguardian.com/  \n8        10.0          http://www.arbejderen.dk  ",
      "text/html": "<div>\n<style scoped>\n    .dataframe tbody tr th:only-of-type {\n        vertical-align: middle;\n    }\n\n    .dataframe tbody tr th {\n        vertical-align: top;\n    }\n\n    .dataframe thead th {\n        text-align: right;\n    }\n</style>\n<table border=\"1\" class=\"dataframe\">\n  <thead>\n    <tr style=\"text-align: right;\">\n      <th></th>\n      <th>Website</th>\n      <th>Has RSS?</th>\n      <th>RSS link</th>\n      <th>How to parse ?</th>\n      <th>Parsed ?</th>\n      <th># Articles</th>\n      <th>link</th>\n    </tr>\n  </thead>\n  <tbody>\n    <tr>\n      <th>1</th>\n      <td>http://dailywire.com</td>\n      <td>Yes</td>\n      <td>https://www.dailywire.com/feeds/rss.xml</td>\n      <td>article -&gt; p</td>\n      <td>Yes</td>\n      <td>50.0</td>\n      <td>http://dailywire.com</td>\n    </tr>\n    <tr>\n      <th>3</th>\n      <td>http://jornada.com.mx</td>\n      <td>Yes</td>\n      <td>https://web.jornada.com.mx/rss/edicion.xml?v=1</td>\n      <td>article -&gt; p</td>\n      <td>Yes</td>\n      <td>123.0</td>\n      <td>http://jornada.com.mx</td>\n    </tr>\n    <tr>\n      <th>4</th>\n      <td>http://nzherald.co.nz</td>\n      <td>Yes</td>\n      <td>https://www.nzherald.co.nz/arc/outboundfeeds/r...</td>\n      <td>article -&gt; p</td>\n      <td>Yes</td>\n      <td>10.0</td>\n      <td>http://nzherald.co.nz</td>\n    </tr>\n    <tr>\n      <th>5</th>\n      <td>http://observer.theguardian.com/</td>\n      <td>Yes</td>\n      <td>https://www.theguardian.com/uk/rss</td>\n      <td>article -&gt; p</td>\n      <td>Yes</td>\n      <td>114.0</td>\n      <td>http://observer.theguardian.com/</td>\n    </tr>\n    <tr>\n      <th>8</th>\n      <td>http://www.arbejderen.dk</td>\n      <td>Yes</td>\n      <td>https://arbejderen.dk/rss</td>\n      <td>div -&gt; p</td>\n      <td>Yes</td>\n      <td>10.0</td>\n      <td>http://www.arbejderen.dk</td>\n    </tr>\n  </tbody>\n</table>\n</div>"
     },
     "execution_count": 35,
     "metadata": {},
     "output_type": "execute_result"
    }
   ],
   "source": [
    "scraped_websites = pd.read_csv('scraped_websites.csv')\n",
    "scraped_websites = scraped_websites[scraped_websites['Parsed ?'] == 'Yes']\n",
    "scraped_websites['link'] = scraped_websites['Website']\n",
    "scraped_websites.head()\n"
   ],
   "metadata": {
    "collapsed": false,
    "pycharm": {
     "name": "#%%\n"
    }
   }
  },
  {
   "cell_type": "code",
   "execution_count": 44,
   "outputs": [
    {
     "data": {
      "text/plain": "      newspaperLabel idealogyLabel                       link\n15         Habertürk  conservatism  https://www.haberturk.com\n16     Star Gazetesi  conservatism   https://www.star.com.tr/\n86         Le Figaro  conservatism   https://www.lefigaro.fr/\n91  Magyar Demokrata  conservatism   http://www.demokrata.hu/\n28           Haaretz    liberalism   https://www.haaretz.com/",
      "text/html": "<div>\n<style scoped>\n    .dataframe tbody tr th:only-of-type {\n        vertical-align: middle;\n    }\n\n    .dataframe tbody tr th {\n        vertical-align: top;\n    }\n\n    .dataframe thead th {\n        text-align: right;\n    }\n</style>\n<table border=\"1\" class=\"dataframe\">\n  <thead>\n    <tr style=\"text-align: right;\">\n      <th></th>\n      <th>newspaperLabel</th>\n      <th>idealogyLabel</th>\n      <th>link</th>\n    </tr>\n  </thead>\n  <tbody>\n    <tr>\n      <th>15</th>\n      <td>Habertürk</td>\n      <td>conservatism</td>\n      <td>https://www.haberturk.com</td>\n    </tr>\n    <tr>\n      <th>16</th>\n      <td>Star Gazetesi</td>\n      <td>conservatism</td>\n      <td>https://www.star.com.tr/</td>\n    </tr>\n    <tr>\n      <th>86</th>\n      <td>Le Figaro</td>\n      <td>conservatism</td>\n      <td>https://www.lefigaro.fr/</td>\n    </tr>\n    <tr>\n      <th>91</th>\n      <td>Magyar Demokrata</td>\n      <td>conservatism</td>\n      <td>http://www.demokrata.hu/</td>\n    </tr>\n    <tr>\n      <th>28</th>\n      <td>Haaretz</td>\n      <td>liberalism</td>\n      <td>https://www.haaretz.com/</td>\n    </tr>\n  </tbody>\n</table>\n</div>"
     },
     "execution_count": 44,
     "metadata": {},
     "output_type": "execute_result"
    }
   ],
   "source": [
    "dataset = newspapers[newspapers['link'].isin(scraped_websites['Website'])]\n",
    "\n",
    "dataset.head()"
   ],
   "metadata": {
    "collapsed": false,
    "pycharm": {
     "name": "#%%\n"
    }
   }
  },
  {
   "cell_type": "code",
   "execution_count": 45,
   "outputs": [
    {
     "name": "stderr",
     "output_type": "stream",
     "text": [
      "/tmp/ipykernel_279012/3482636261.py:1: SettingWithCopyWarning: \n",
      "A value is trying to be set on a copy of a slice from a DataFrame.\n",
      "Try using .loc[row_indexer,col_indexer] = value instead\n",
      "\n",
      "See the caveats in the documentation: https://pandas.pydata.org/pandas-docs/stable/user_guide/indexing.html#returning-a-view-versus-a-copy\n",
      "  dataset['articlesLocation'] = dataset['link'].apply(lambda link: tldextract.extract(link).domain)\n"
     ]
    },
    {
     "data": {
      "text/plain": "             newspaperLabel     idealogyLabel  \\\n15                Habertürk      conservatism   \n16            Star Gazetesi      conservatism   \n86                Le Figaro      conservatism   \n91         Magyar Demokrata      conservatism   \n28                  Haaretz        liberalism   \n29                  168 Óra        liberalism   \n30      Corriere della Sera        liberalism   \n33           Magyar Narancs        liberalism   \n39   The New Zealand Herald        liberalism   \n79                  Haaretz         left-wing   \n101                 168 Óra         left-wing   \n102            Jungle World         left-wing   \n104                  I Avgi         left-wing   \n105              La Jornada         left-wing   \n6                 Habertürk        right-wing   \n9                   The Sun        right-wing   \n17           The Daily Wire        right-wing   \n98              El Cronista        right-wing   \n76                Q11964499         communism   \n50             The Observer       centre-left   \n52                  The Age       centre-left   \n70                Balistrad       centre-left   \n67         Eleftheros Typos      centre-right   \n146                 El País      centre-right   \n96                  Haaretz  social democracy   \n97                    Danas  social democracy   \n73                 The Hill          centrism   \n\n                                 link articlesLocation  \n15          https://www.haberturk.com        haberturk  \n16           https://www.star.com.tr/             star  \n86           https://www.lefigaro.fr/         lefigaro  \n91           http://www.demokrata.hu/        demokrata  \n28           https://www.haaretz.com/          haaretz  \n29                     https://168.hu              168  \n30            https://www.corriere.it         corriere  \n33          https://magyarnarancs.hu/    magyarnarancs  \n39              http://nzherald.co.nz         nzherald  \n79           https://www.haaretz.com/          haaretz  \n101                    https://168.hu              168  \n102             https://jungle.world/           jungle  \n104                http://www.avgi.gr             avgi  \n105             http://jornada.com.mx          jornada  \n6           https://www.haberturk.com        haberturk  \n9            http://www.thesun.co.uk/           thesun  \n17               http://dailywire.com        dailywire  \n98           http://www.cronista.com/         cronista  \n76           http://www.arbejderen.dk       arbejderen  \n50   http://observer.theguardian.com/      theguardian  \n52          http://www.theage.com.au/           theage  \n70             https://balistrad.com/        balistrad  \n67     http://www.eleftherostypos.gr/  eleftherostypos  \n146          http://www.elpais.com.co           elpais  \n96           https://www.haaretz.com/          haaretz  \n97               http://www.danas.rs/            danas  \n73               https://thehill.com/          thehill  ",
      "text/html": "<div>\n<style scoped>\n    .dataframe tbody tr th:only-of-type {\n        vertical-align: middle;\n    }\n\n    .dataframe tbody tr th {\n        vertical-align: top;\n    }\n\n    .dataframe thead th {\n        text-align: right;\n    }\n</style>\n<table border=\"1\" class=\"dataframe\">\n  <thead>\n    <tr style=\"text-align: right;\">\n      <th></th>\n      <th>newspaperLabel</th>\n      <th>idealogyLabel</th>\n      <th>link</th>\n      <th>articlesLocation</th>\n    </tr>\n  </thead>\n  <tbody>\n    <tr>\n      <th>15</th>\n      <td>Habertürk</td>\n      <td>conservatism</td>\n      <td>https://www.haberturk.com</td>\n      <td>haberturk</td>\n    </tr>\n    <tr>\n      <th>16</th>\n      <td>Star Gazetesi</td>\n      <td>conservatism</td>\n      <td>https://www.star.com.tr/</td>\n      <td>star</td>\n    </tr>\n    <tr>\n      <th>86</th>\n      <td>Le Figaro</td>\n      <td>conservatism</td>\n      <td>https://www.lefigaro.fr/</td>\n      <td>lefigaro</td>\n    </tr>\n    <tr>\n      <th>91</th>\n      <td>Magyar Demokrata</td>\n      <td>conservatism</td>\n      <td>http://www.demokrata.hu/</td>\n      <td>demokrata</td>\n    </tr>\n    <tr>\n      <th>28</th>\n      <td>Haaretz</td>\n      <td>liberalism</td>\n      <td>https://www.haaretz.com/</td>\n      <td>haaretz</td>\n    </tr>\n    <tr>\n      <th>29</th>\n      <td>168 Óra</td>\n      <td>liberalism</td>\n      <td>https://168.hu</td>\n      <td>168</td>\n    </tr>\n    <tr>\n      <th>30</th>\n      <td>Corriere della Sera</td>\n      <td>liberalism</td>\n      <td>https://www.corriere.it</td>\n      <td>corriere</td>\n    </tr>\n    <tr>\n      <th>33</th>\n      <td>Magyar Narancs</td>\n      <td>liberalism</td>\n      <td>https://magyarnarancs.hu/</td>\n      <td>magyarnarancs</td>\n    </tr>\n    <tr>\n      <th>39</th>\n      <td>The New Zealand Herald</td>\n      <td>liberalism</td>\n      <td>http://nzherald.co.nz</td>\n      <td>nzherald</td>\n    </tr>\n    <tr>\n      <th>79</th>\n      <td>Haaretz</td>\n      <td>left-wing</td>\n      <td>https://www.haaretz.com/</td>\n      <td>haaretz</td>\n    </tr>\n    <tr>\n      <th>101</th>\n      <td>168 Óra</td>\n      <td>left-wing</td>\n      <td>https://168.hu</td>\n      <td>168</td>\n    </tr>\n    <tr>\n      <th>102</th>\n      <td>Jungle World</td>\n      <td>left-wing</td>\n      <td>https://jungle.world/</td>\n      <td>jungle</td>\n    </tr>\n    <tr>\n      <th>104</th>\n      <td>I Avgi</td>\n      <td>left-wing</td>\n      <td>http://www.avgi.gr</td>\n      <td>avgi</td>\n    </tr>\n    <tr>\n      <th>105</th>\n      <td>La Jornada</td>\n      <td>left-wing</td>\n      <td>http://jornada.com.mx</td>\n      <td>jornada</td>\n    </tr>\n    <tr>\n      <th>6</th>\n      <td>Habertürk</td>\n      <td>right-wing</td>\n      <td>https://www.haberturk.com</td>\n      <td>haberturk</td>\n    </tr>\n    <tr>\n      <th>9</th>\n      <td>The Sun</td>\n      <td>right-wing</td>\n      <td>http://www.thesun.co.uk/</td>\n      <td>thesun</td>\n    </tr>\n    <tr>\n      <th>17</th>\n      <td>The Daily Wire</td>\n      <td>right-wing</td>\n      <td>http://dailywire.com</td>\n      <td>dailywire</td>\n    </tr>\n    <tr>\n      <th>98</th>\n      <td>El Cronista</td>\n      <td>right-wing</td>\n      <td>http://www.cronista.com/</td>\n      <td>cronista</td>\n    </tr>\n    <tr>\n      <th>76</th>\n      <td>Q11964499</td>\n      <td>communism</td>\n      <td>http://www.arbejderen.dk</td>\n      <td>arbejderen</td>\n    </tr>\n    <tr>\n      <th>50</th>\n      <td>The Observer</td>\n      <td>centre-left</td>\n      <td>http://observer.theguardian.com/</td>\n      <td>theguardian</td>\n    </tr>\n    <tr>\n      <th>52</th>\n      <td>The Age</td>\n      <td>centre-left</td>\n      <td>http://www.theage.com.au/</td>\n      <td>theage</td>\n    </tr>\n    <tr>\n      <th>70</th>\n      <td>Balistrad</td>\n      <td>centre-left</td>\n      <td>https://balistrad.com/</td>\n      <td>balistrad</td>\n    </tr>\n    <tr>\n      <th>67</th>\n      <td>Eleftheros Typos</td>\n      <td>centre-right</td>\n      <td>http://www.eleftherostypos.gr/</td>\n      <td>eleftherostypos</td>\n    </tr>\n    <tr>\n      <th>146</th>\n      <td>El País</td>\n      <td>centre-right</td>\n      <td>http://www.elpais.com.co</td>\n      <td>elpais</td>\n    </tr>\n    <tr>\n      <th>96</th>\n      <td>Haaretz</td>\n      <td>social democracy</td>\n      <td>https://www.haaretz.com/</td>\n      <td>haaretz</td>\n    </tr>\n    <tr>\n      <th>97</th>\n      <td>Danas</td>\n      <td>social democracy</td>\n      <td>http://www.danas.rs/</td>\n      <td>danas</td>\n    </tr>\n    <tr>\n      <th>73</th>\n      <td>The Hill</td>\n      <td>centrism</td>\n      <td>https://thehill.com/</td>\n      <td>thehill</td>\n    </tr>\n  </tbody>\n</table>\n</div>"
     },
     "execution_count": 45,
     "metadata": {},
     "output_type": "execute_result"
    }
   ],
   "source": [
    "dataset['articlesLocation'] = dataset['link'].apply(lambda link: tldextract.extract(link).domain)\n",
    "dataset['amountOfArticles'] = dataset['articlesLocation'].apply(lambda folder: len([name for name in os.listdir(os.path.join('data', folder))]))\n",
    "\n",
    "dataset"
   ],
   "metadata": {
    "collapsed": false,
    "pycharm": {
     "name": "#%%\n"
    }
   }
  },
  {
   "cell_type": "code",
   "execution_count": 48,
   "outputs": [],
   "source": [
    "dataset.to_csv(os.path.join('data', 'metadata'), index=False)"
   ],
   "metadata": {
    "collapsed": false,
    "pycharm": {
     "name": "#%%\n"
    }
   }
  },
  {
   "cell_type": "markdown",
   "source": [],
   "metadata": {
    "collapsed": false,
    "pycharm": {
     "name": "#%% md\n"
    }
   }
  }
 ],
 "metadata": {
  "kernelspec": {
   "name": "newsarticleprofiling",
   "language": "python",
   "display_name": "NewsArticleProfiling"
  },
  "language_info": {
   "codemirror_mode": {
    "name": "ipython",
    "version": 2
   },
   "file_extension": ".py",
   "mimetype": "text/x-python",
   "name": "python",
   "nbconvert_exporter": "python",
   "pygments_lexer": "ipython2",
   "version": "2.7.6"
  }
 },
 "nbformat": 4,
 "nbformat_minor": 0
}