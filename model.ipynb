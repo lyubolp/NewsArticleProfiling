{
  "cells": [
    {
      "cell_type": "markdown",
      "source": [
        "# Подготовка на средата"
      ],
      "metadata": {
        "id": "Eyfrpp1wNg5x"
      }
    },
    {
      "cell_type": "code",
      "source": [
        "!cd data && unzip 'data.zip'"
      ],
      "metadata": {
        "colab": {
          "base_uri": "https://localhost:8080/"
        },
        "id": "1jyCul65IcJj",
        "outputId": "49c24091-cefd-4e88-95f3-8a92968513ff"
      },
      "execution_count": null,
      "outputs": [
        {
          "output_type": "stream",
          "name": "stdout",
          "text": [
            "Archive:  data.zip\n",
            "   creating: 168/\n",
            "  inflating: 168/3.txt               \n",
            "  inflating: 168/6.txt               \n",
            "  inflating: 168/30.txt              \n",
            "  inflating: 168/11.txt              \n",
            "  inflating: 168/22.txt              \n",
            "  inflating: 168/4.txt               \n",
            "  inflating: 168/15.txt              \n",
            "  inflating: 168/5.txt               \n",
            "  inflating: 168/17.txt              \n",
            "  inflating: 168/13.txt              \n",
            "  inflating: 168/10.txt              \n",
            "  inflating: 168/28.txt              \n",
            "  inflating: 168/18.txt              \n",
            "  inflating: 168/1.txt               \n",
            "  inflating: 168/24.txt              \n",
            "  inflating: 168/19.txt              \n",
            "  inflating: 168/8.txt               \n",
            "  inflating: 168/16.txt              \n",
            "  inflating: 168/20.txt              \n",
            "  inflating: 168/12.txt              \n",
            "  inflating: 168/26.txt              \n",
            "  inflating: 168/23.txt              \n",
            "  inflating: 168/21.txt              \n",
            "  inflating: 168/7.txt               \n",
            "  inflating: 168/14.txt              \n",
            "  inflating: 168/27.txt              \n",
            "  inflating: 168/9.txt               \n",
            "  inflating: 168/25.txt              \n",
            "  inflating: 168/29.txt              \n",
            "  inflating: 168/2.txt               \n",
            "   creating: arbejderen/\n",
            "  inflating: arbejderen/3.txt        \n",
            "  inflating: arbejderen/6.txt        \n",
            "  inflating: arbejderen/4.txt        \n",
            "  inflating: arbejderen/5.txt        \n",
            "  inflating: arbejderen/10.txt       \n",
            "  inflating: arbejderen/1.txt        \n",
            "  inflating: arbejderen/8.txt        \n",
            "  inflating: arbejderen/7.txt        \n",
            "  inflating: arbejderen/9.txt        \n",
            "  inflating: arbejderen/2.txt        \n",
            "   creating: avgi/\n",
            "  inflating: avgi/3.txt              \n",
            "  inflating: avgi/6.txt              \n",
            "  inflating: avgi/4.txt              \n",
            "  inflating: avgi/5.txt              \n",
            "  inflating: avgi/10.txt             \n",
            "  inflating: avgi/1.txt              \n",
            "  inflating: avgi/8.txt              \n",
            "  inflating: avgi/7.txt              \n",
            "  inflating: avgi/9.txt              \n",
            "  inflating: avgi/2.txt              \n",
            "   creating: balistrad/\n",
            "  inflating: balistrad/3.txt         \n",
            "  inflating: balistrad/6.txt         \n",
            "  inflating: balistrad/4.txt         \n",
            "  inflating: balistrad/5.txt         \n",
            "  inflating: balistrad/10.txt        \n",
            "  inflating: balistrad/1.txt         \n",
            "  inflating: balistrad/8.txt         \n",
            "  inflating: balistrad/7.txt         \n",
            "  inflating: balistrad/9.txt         \n",
            "  inflating: balistrad/2.txt         \n",
            "   creating: corriere/\n",
            "  inflating: corriere/56.txt         \n",
            "  inflating: corriere/44.txt         \n",
            "  inflating: corriere/64.txt         \n",
            "  inflating: corriere/36.txt         \n",
            "  inflating: corriere/3.txt          \n",
            "  inflating: corriere/6.txt          \n",
            "  inflating: corriere/75.txt         \n",
            "  inflating: corriere/67.txt         \n",
            "  inflating: corriere/53.txt         \n",
            "  inflating: corriere/30.txt         \n",
            "  inflating: corriere/11.txt         \n",
            "  inflating: corriere/62.txt         \n",
            "  inflating: corriere/48.txt         \n",
            "  inflating: corriere/22.txt         \n",
            "  inflating: corriere/4.txt          \n",
            "  inflating: corriere/15.txt         \n",
            "  inflating: corriere/51.txt         \n",
            "  inflating: corriere/5.txt          \n",
            "  inflating: corriere/38.txt         \n",
            "  inflating: corriere/54.txt         \n",
            "  inflating: corriere/58.txt         \n",
            "  inflating: corriere/31.txt         \n",
            "  inflating: corriere/81.txt         \n",
            "  inflating: corriere/43.txt         \n",
            "  inflating: corriere/17.txt         \n",
            "  inflating: corriere/41.txt         \n",
            "  inflating: corriere/35.txt         \n",
            "  inflating: corriere/63.txt         \n",
            "  inflating: corriere/13.txt         \n",
            "  inflating: corriere/10.txt         \n",
            "  inflating: corriere/71.txt         \n",
            "  inflating: corriere/59.txt         \n",
            "  inflating: corriere/45.txt         \n",
            "  inflating: corriere/28.txt         \n",
            "  inflating: corriere/34.txt         \n",
            "  inflating: corriere/18.txt         \n",
            "  inflating: corriere/1.txt          \n",
            "  inflating: corriere/33.txt         \n",
            "  inflating: corriere/66.txt         \n",
            "  inflating: corriere/47.txt         \n",
            "  inflating: corriere/24.txt         \n",
            "  inflating: corriere/55.txt         \n",
            "  inflating: corriere/82.txt         \n",
            "  inflating: corriere/52.txt         \n",
            "  inflating: corriere/19.txt         \n",
            "  inflating: corriere/76.txt         \n",
            "  inflating: corriere/60.txt         \n",
            "  inflating: corriere/8.txt          \n",
            "  inflating: corriere/80.txt         \n",
            "  inflating: corriere/16.txt         \n",
            "  inflating: corriere/57.txt         \n",
            "  inflating: corriere/40.txt         \n",
            "  inflating: corriere/20.txt         \n",
            "  inflating: corriere/70.txt         \n",
            "  inflating: corriere/46.txt         \n",
            "  inflating: corriere/50.txt         \n",
            "  inflating: corriere/77.txt         \n",
            "  inflating: corriere/12.txt         \n",
            "  inflating: corriere/49.txt         \n",
            "  inflating: corriere/65.txt         \n",
            "  inflating: corriere/32.txt         \n",
            "  inflating: corriere/78.txt         \n",
            "  inflating: corriere/37.txt         \n",
            "  inflating: corriere/26.txt         \n",
            "  inflating: corriere/23.txt         \n",
            "  inflating: corriere/61.txt         \n",
            "  inflating: corriere/21.txt         \n",
            "  inflating: corriere/7.txt          \n",
            "  inflating: corriere/39.txt         \n",
            "  inflating: corriere/42.txt         \n",
            "  inflating: corriere/79.txt         \n",
            "  inflating: corriere/14.txt         \n",
            "  inflating: corriere/27.txt         \n",
            "  inflating: corriere/72.txt         \n",
            "  inflating: corriere/73.txt         \n",
            "  inflating: corriere/9.txt          \n",
            "  inflating: corriere/68.txt         \n",
            "  inflating: corriere/25.txt         \n",
            "  inflating: corriere/29.txt         \n",
            "  inflating: corriere/69.txt         \n",
            "  inflating: corriere/74.txt         \n",
            "  inflating: corriere/2.txt          \n",
            "   creating: cronista/\n",
            "  inflating: cronista/98.txt         \n",
            "  inflating: cronista/56.txt         \n",
            "  inflating: cronista/44.txt         \n",
            "  inflating: cronista/64.txt         \n",
            "  inflating: cronista/90.txt         \n",
            "  inflating: cronista/36.txt         \n",
            "  inflating: cronista/3.txt          \n",
            "  inflating: cronista/6.txt          \n",
            "  inflating: cronista/75.txt         \n",
            "  inflating: cronista/67.txt         \n",
            "  inflating: cronista/97.txt         \n",
            "  inflating: cronista/53.txt         \n",
            "  inflating: cronista/84.txt         \n",
            "  inflating: cronista/30.txt         \n",
            "  inflating: cronista/11.txt         \n",
            "  inflating: cronista/62.txt         \n",
            "  inflating: cronista/93.txt         \n",
            "  inflating: cronista/48.txt         \n",
            "  inflating: cronista/22.txt         \n",
            "  inflating: cronista/4.txt          \n",
            "  inflating: cronista/15.txt         \n",
            "  inflating: cronista/51.txt         \n",
            "  inflating: cronista/5.txt          \n",
            "  inflating: cronista/38.txt         \n",
            "  inflating: cronista/83.txt         \n",
            "  inflating: cronista/54.txt         \n",
            "  inflating: cronista/58.txt         \n",
            "  inflating: cronista/31.txt         \n",
            "  inflating: cronista/81.txt         \n",
            "  inflating: cronista/43.txt         \n",
            "  inflating: cronista/17.txt         \n",
            "  inflating: cronista/41.txt         \n",
            "  inflating: cronista/35.txt         \n",
            "  inflating: cronista/63.txt         \n",
            "  inflating: cronista/13.txt         \n",
            "  inflating: cronista/10.txt         \n",
            "  inflating: cronista/71.txt         \n",
            "  inflating: cronista/59.txt         \n",
            "  inflating: cronista/45.txt         \n",
            "  inflating: cronista/28.txt         \n",
            "  inflating: cronista/34.txt         \n",
            "  inflating: cronista/18.txt         \n",
            "  inflating: cronista/1.txt          \n",
            "  inflating: cronista/100.txt        \n",
            "  inflating: cronista/33.txt         \n",
            "  inflating: cronista/85.txt         \n",
            "  inflating: cronista/66.txt         \n",
            "  inflating: cronista/47.txt         \n",
            "  inflating: cronista/91.txt         \n",
            "  inflating: cronista/24.txt         \n",
            "  inflating: cronista/55.txt         \n",
            "  inflating: cronista/82.txt         \n",
            "  inflating: cronista/52.txt         \n",
            "  inflating: cronista/19.txt         \n",
            "  inflating: cronista/76.txt         \n",
            "  inflating: cronista/60.txt         \n",
            "  inflating: cronista/8.txt          \n",
            "  inflating: cronista/80.txt         \n",
            "  inflating: cronista/16.txt         \n",
            "  inflating: cronista/99.txt         \n",
            "  inflating: cronista/57.txt         \n",
            "  inflating: cronista/40.txt         \n",
            "  inflating: cronista/20.txt         \n",
            "  inflating: cronista/70.txt         \n",
            "  inflating: cronista/46.txt         \n",
            "  inflating: cronista/50.txt         \n",
            "  inflating: cronista/77.txt         \n",
            "  inflating: cronista/12.txt         \n",
            "  inflating: cronista/49.txt         \n",
            "  inflating: cronista/65.txt         \n",
            "  inflating: cronista/32.txt         \n",
            "  inflating: cronista/89.txt         \n",
            "  inflating: cronista/94.txt         \n",
            "  inflating: cronista/78.txt         \n",
            "  inflating: cronista/37.txt         \n",
            "  inflating: cronista/96.txt         \n",
            "  inflating: cronista/26.txt         \n",
            "  inflating: cronista/23.txt         \n",
            "  inflating: cronista/61.txt         \n",
            "  inflating: cronista/21.txt         \n",
            "  inflating: cronista/7.txt          \n",
            "  inflating: cronista/39.txt         \n",
            "  inflating: cronista/42.txt         \n",
            "  inflating: cronista/79.txt         \n",
            "  inflating: cronista/14.txt         \n",
            "  inflating: cronista/27.txt         \n",
            "  inflating: cronista/72.txt         \n",
            "  inflating: cronista/87.txt         \n",
            "  inflating: cronista/73.txt         \n",
            "  inflating: cronista/92.txt         \n",
            "  inflating: cronista/9.txt          \n",
            "  inflating: cronista/68.txt         \n",
            "  inflating: cronista/25.txt         \n",
            "  inflating: cronista/86.txt         \n",
            "  inflating: cronista/29.txt         \n",
            "  inflating: cronista/95.txt         \n",
            "  inflating: cronista/69.txt         \n",
            "  inflating: cronista/88.txt         \n",
            "  inflating: cronista/74.txt         \n",
            "  inflating: cronista/2.txt          \n",
            "   creating: dailywire/\n",
            "  inflating: dailywire/44.txt        \n",
            "  inflating: dailywire/36.txt        \n",
            "  inflating: dailywire/3.txt         \n",
            "  inflating: dailywire/6.txt         \n",
            "  inflating: dailywire/30.txt        \n",
            "  inflating: dailywire/11.txt        \n",
            "  inflating: dailywire/48.txt        \n",
            "  inflating: dailywire/22.txt        \n",
            "  inflating: dailywire/4.txt         \n",
            "  inflating: dailywire/15.txt        \n",
            "  inflating: dailywire/5.txt         \n",
            "  inflating: dailywire/38.txt        \n",
            "  inflating: dailywire/31.txt        \n",
            "  inflating: dailywire/43.txt        \n",
            "  inflating: dailywire/17.txt        \n",
            "  inflating: dailywire/41.txt        \n",
            "  inflating: dailywire/35.txt        \n",
            "  inflating: dailywire/13.txt        \n",
            "  inflating: dailywire/10.txt        \n",
            "  inflating: dailywire/45.txt        \n",
            "  inflating: dailywire/28.txt        \n",
            "  inflating: dailywire/34.txt        \n",
            "  inflating: dailywire/18.txt        \n",
            "  inflating: dailywire/1.txt         \n",
            " extracting: dailywire/33.txt        \n",
            "  inflating: dailywire/47.txt        \n",
            "  inflating: dailywire/24.txt        \n",
            "  inflating: dailywire/19.txt        \n",
            "  inflating: dailywire/8.txt         \n",
            "  inflating: dailywire/16.txt        \n",
            "  inflating: dailywire/40.txt        \n",
            "  inflating: dailywire/20.txt        \n",
            "  inflating: dailywire/46.txt        \n",
            "  inflating: dailywire/50.txt        \n",
            " extracting: dailywire/12.txt        \n",
            "  inflating: dailywire/49.txt        \n",
            "  inflating: dailywire/32.txt        \n",
            "  inflating: dailywire/37.txt        \n",
            "  inflating: dailywire/26.txt        \n",
            "  inflating: dailywire/23.txt        \n",
            "  inflating: dailywire/21.txt        \n",
            "  inflating: dailywire/7.txt         \n",
            " extracting: dailywire/39.txt        \n",
            "  inflating: dailywire/42.txt        \n",
            "  inflating: dailywire/14.txt        \n",
            "  inflating: dailywire/27.txt        \n",
            "  inflating: dailywire/9.txt         \n",
            " extracting: dailywire/25.txt        \n",
            "  inflating: dailywire/29.txt        \n",
            "  inflating: dailywire/2.txt         \n",
            "   creating: danas/\n",
            "  inflating: danas/3.txt             \n",
            "  inflating: danas/6.txt             \n",
            "  inflating: danas/11.txt            \n",
            "  inflating: danas/22.txt            \n",
            "  inflating: danas/4.txt             \n",
            "  inflating: danas/15.txt            \n",
            "  inflating: danas/5.txt             \n",
            "  inflating: danas/17.txt            \n",
            "  inflating: danas/13.txt            \n",
            "  inflating: danas/10.txt            \n",
            "  inflating: danas/18.txt            \n",
            "  inflating: danas/1.txt             \n",
            "  inflating: danas/24.txt            \n",
            "  inflating: danas/19.txt            \n",
            "  inflating: danas/8.txt             \n",
            "  inflating: danas/16.txt            \n",
            "  inflating: danas/20.txt            \n",
            "  inflating: danas/12.txt            \n",
            "  inflating: danas/23.txt            \n",
            "  inflating: danas/21.txt            \n",
            "  inflating: danas/7.txt             \n",
            "  inflating: danas/14.txt            \n",
            "  inflating: danas/9.txt             \n",
            "  inflating: danas/25.txt            \n",
            "  inflating: danas/2.txt             \n",
            "   creating: demokrata/\n",
            "  inflating: demokrata/3.txt         \n",
            "  inflating: demokrata/6.txt         \n",
            "  inflating: demokrata/4.txt         \n",
            "  inflating: demokrata/5.txt         \n",
            "  inflating: demokrata/10.txt        \n",
            "  inflating: demokrata/1.txt         \n",
            "  inflating: demokrata/8.txt         \n",
            "  inflating: demokrata/7.txt         \n",
            "  inflating: demokrata/9.txt         \n",
            "  inflating: demokrata/2.txt         \n",
            "   creating: eleftherostypos/\n",
            "  inflating: eleftherostypos/3.txt   \n",
            "  inflating: eleftherostypos/6.txt   \n",
            "  inflating: eleftherostypos/4.txt   \n",
            "  inflating: eleftherostypos/5.txt   \n",
            "  inflating: eleftherostypos/10.txt  \n",
            "  inflating: eleftherostypos/1.txt   \n",
            "  inflating: eleftherostypos/8.txt   \n",
            "  inflating: eleftherostypos/7.txt   \n",
            "  inflating: eleftherostypos/9.txt   \n",
            "  inflating: eleftherostypos/2.txt   \n",
            "   creating: elpais/\n",
            "  inflating: elpais/3.txt            \n",
            "  inflating: elpais/6.txt            \n",
            "  inflating: elpais/11.txt           \n",
            "  inflating: elpais/4.txt            \n",
            "  inflating: elpais/15.txt           \n",
            "  inflating: elpais/5.txt            \n",
            " extracting: elpais/17.txt           \n",
            "  inflating: elpais/13.txt           \n",
            "  inflating: elpais/10.txt           \n",
            "  inflating: elpais/18.txt           \n",
            "  inflating: elpais/1.txt            \n",
            " extracting: elpais/19.txt           \n",
            "  inflating: elpais/8.txt            \n",
            "  inflating: elpais/16.txt           \n",
            "  inflating: elpais/20.txt           \n",
            "  inflating: elpais/12.txt           \n",
            "  inflating: elpais/7.txt            \n",
            " extracting: elpais/14.txt           \n",
            "  inflating: elpais/9.txt            \n",
            "  inflating: elpais/2.txt            \n",
            "   creating: haaretz/\n",
            "  inflating: haaretz/98.txt          \n",
            "  inflating: haaretz/56.txt          \n",
            "  inflating: haaretz/44.txt          \n",
            "  inflating: haaretz/64.txt          \n",
            "  inflating: haaretz/90.txt          \n",
            "  inflating: haaretz/36.txt          \n",
            "  inflating: haaretz/3.txt           \n",
            "  inflating: haaretz/6.txt           \n",
            "  inflating: haaretz/75.txt          \n",
            "  inflating: haaretz/67.txt          \n",
            "  inflating: haaretz/97.txt          \n",
            "  inflating: haaretz/53.txt          \n",
            "  inflating: haaretz/84.txt          \n",
            "  inflating: haaretz/30.txt          \n",
            "  inflating: haaretz/11.txt          \n",
            "  inflating: haaretz/62.txt          \n",
            "  inflating: haaretz/93.txt          \n",
            "  inflating: haaretz/48.txt          \n",
            "  inflating: haaretz/22.txt          \n",
            "  inflating: haaretz/4.txt           \n",
            "  inflating: haaretz/15.txt          \n",
            "  inflating: haaretz/51.txt          \n",
            "  inflating: haaretz/5.txt           \n",
            "  inflating: haaretz/38.txt          \n",
            "  inflating: haaretz/83.txt          \n",
            "  inflating: haaretz/54.txt          \n",
            "  inflating: haaretz/58.txt          \n",
            "  inflating: haaretz/31.txt          \n",
            "  inflating: haaretz/81.txt          \n",
            "  inflating: haaretz/43.txt          \n",
            "  inflating: haaretz/17.txt          \n",
            "  inflating: haaretz/41.txt          \n",
            "  inflating: haaretz/35.txt          \n",
            "  inflating: haaretz/63.txt          \n",
            "  inflating: haaretz/13.txt          \n",
            "  inflating: haaretz/10.txt          \n",
            "  inflating: haaretz/71.txt          \n",
            "  inflating: haaretz/59.txt          \n",
            "  inflating: haaretz/45.txt          \n",
            "  inflating: haaretz/28.txt          \n",
            "  inflating: haaretz/34.txt          \n",
            "  inflating: haaretz/18.txt          \n",
            "  inflating: haaretz/1.txt           \n",
            "  inflating: haaretz/100.txt         \n",
            "  inflating: haaretz/33.txt          \n",
            "  inflating: haaretz/85.txt          \n",
            "  inflating: haaretz/66.txt          \n",
            "  inflating: haaretz/47.txt          \n",
            "  inflating: haaretz/91.txt          \n",
            "  inflating: haaretz/24.txt          \n",
            "  inflating: haaretz/55.txt          \n",
            "  inflating: haaretz/82.txt          \n",
            "  inflating: haaretz/52.txt          \n",
            "  inflating: haaretz/19.txt          \n",
            "  inflating: haaretz/76.txt          \n",
            "  inflating: haaretz/60.txt          \n",
            "  inflating: haaretz/8.txt           \n",
            "  inflating: haaretz/80.txt          \n",
            "  inflating: haaretz/16.txt          \n",
            "  inflating: haaretz/99.txt          \n",
            "  inflating: haaretz/57.txt          \n",
            "  inflating: haaretz/40.txt          \n",
            "  inflating: haaretz/20.txt          \n",
            "  inflating: haaretz/70.txt          \n",
            "  inflating: haaretz/46.txt          \n",
            "  inflating: haaretz/50.txt          \n",
            "  inflating: haaretz/77.txt          \n",
            "  inflating: haaretz/12.txt          \n",
            "  inflating: haaretz/49.txt          \n",
            "  inflating: haaretz/65.txt          \n",
            "  inflating: haaretz/32.txt          \n",
            "  inflating: haaretz/89.txt          \n",
            "  inflating: haaretz/94.txt          \n",
            "  inflating: haaretz/78.txt          \n",
            "  inflating: haaretz/37.txt          \n",
            "  inflating: haaretz/96.txt          \n",
            "  inflating: haaretz/26.txt          \n",
            "  inflating: haaretz/23.txt          \n",
            "  inflating: haaretz/61.txt          \n",
            "  inflating: haaretz/21.txt          \n",
            "  inflating: haaretz/7.txt           \n",
            "  inflating: haaretz/39.txt          \n",
            "  inflating: haaretz/42.txt          \n",
            "  inflating: haaretz/79.txt          \n",
            "  inflating: haaretz/14.txt          \n",
            "  inflating: haaretz/27.txt          \n",
            "  inflating: haaretz/72.txt          \n",
            "  inflating: haaretz/87.txt          \n",
            "  inflating: haaretz/73.txt          \n",
            "  inflating: haaretz/92.txt          \n",
            "  inflating: haaretz/9.txt           \n",
            "  inflating: haaretz/68.txt          \n",
            "  inflating: haaretz/25.txt          \n",
            "  inflating: haaretz/86.txt          \n",
            "  inflating: haaretz/29.txt          \n",
            "  inflating: haaretz/95.txt          \n",
            "  inflating: haaretz/69.txt          \n",
            "  inflating: haaretz/88.txt          \n",
            "  inflating: haaretz/74.txt          \n",
            "  inflating: haaretz/2.txt           \n",
            "   creating: haberturk/\n",
            "  inflating: haberturk/98.txt        \n",
            "  inflating: haberturk/56.txt        \n",
            "  inflating: haberturk/44.txt        \n",
            "  inflating: haberturk/64.txt        \n",
            "  inflating: haberturk/90.txt        \n",
            "  inflating: haberturk/36.txt        \n",
            "  inflating: haberturk/3.txt         \n",
            "  inflating: haberturk/6.txt         \n",
            "  inflating: haberturk/75.txt        \n",
            "  inflating: haberturk/67.txt        \n",
            "  inflating: haberturk/97.txt        \n",
            "  inflating: haberturk/53.txt        \n",
            "  inflating: haberturk/84.txt        \n",
            "  inflating: haberturk/30.txt        \n",
            "  inflating: haberturk/11.txt        \n",
            "  inflating: haberturk/62.txt        \n",
            "  inflating: haberturk/93.txt        \n",
            "  inflating: haberturk/48.txt        \n",
            "  inflating: haberturk/22.txt        \n",
            "  inflating: haberturk/4.txt         \n",
            "  inflating: haberturk/15.txt        \n",
            "  inflating: haberturk/51.txt        \n",
            "  inflating: haberturk/5.txt         \n",
            "  inflating: haberturk/38.txt        \n",
            "  inflating: haberturk/83.txt        \n",
            "  inflating: haberturk/54.txt        \n",
            "  inflating: haberturk/58.txt        \n",
            "  inflating: haberturk/31.txt        \n",
            "  inflating: haberturk/81.txt        \n",
            "  inflating: haberturk/43.txt        \n",
            "  inflating: haberturk/17.txt        \n",
            "  inflating: haberturk/41.txt        \n",
            "  inflating: haberturk/35.txt        \n",
            "  inflating: haberturk/63.txt        \n",
            "  inflating: haberturk/13.txt        \n",
            "  inflating: haberturk/10.txt        \n",
            "  inflating: haberturk/71.txt        \n",
            "  inflating: haberturk/59.txt        \n",
            "  inflating: haberturk/45.txt        \n",
            "  inflating: haberturk/28.txt        \n",
            "  inflating: haberturk/34.txt        \n",
            "  inflating: haberturk/18.txt        \n",
            "  inflating: haberturk/1.txt         \n",
            "  inflating: haberturk/33.txt        \n",
            "  inflating: haberturk/85.txt        \n",
            "  inflating: haberturk/66.txt        \n",
            "  inflating: haberturk/47.txt        \n",
            "  inflating: haberturk/91.txt        \n",
            "  inflating: haberturk/24.txt        \n",
            "  inflating: haberturk/55.txt        \n",
            "  inflating: haberturk/82.txt        \n",
            "  inflating: haberturk/52.txt        \n",
            "  inflating: haberturk/19.txt        \n",
            "  inflating: haberturk/76.txt        \n",
            "  inflating: haberturk/60.txt        \n",
            "  inflating: haberturk/8.txt         \n",
            "  inflating: haberturk/80.txt        \n",
            "  inflating: haberturk/16.txt        \n",
            "  inflating: haberturk/57.txt        \n",
            "  inflating: haberturk/40.txt        \n",
            "  inflating: haberturk/20.txt        \n",
            "  inflating: haberturk/70.txt        \n",
            "  inflating: haberturk/46.txt        \n",
            "  inflating: haberturk/50.txt        \n",
            "  inflating: haberturk/77.txt        \n",
            "  inflating: haberturk/12.txt        \n",
            "  inflating: haberturk/49.txt        \n",
            "  inflating: haberturk/65.txt        \n",
            "  inflating: haberturk/32.txt        \n",
            "  inflating: haberturk/89.txt        \n",
            "  inflating: haberturk/94.txt        \n",
            "  inflating: haberturk/78.txt        \n",
            "  inflating: haberturk/37.txt        \n",
            "  inflating: haberturk/96.txt        \n",
            "  inflating: haberturk/26.txt        \n",
            "  inflating: haberturk/23.txt        \n",
            "  inflating: haberturk/61.txt        \n",
            "  inflating: haberturk/21.txt        \n",
            "  inflating: haberturk/7.txt         \n",
            "  inflating: haberturk/39.txt        \n",
            "  inflating: haberturk/42.txt        \n",
            "  inflating: haberturk/79.txt        \n",
            "  inflating: haberturk/14.txt        \n",
            "  inflating: haberturk/27.txt        \n",
            "  inflating: haberturk/72.txt        \n",
            "  inflating: haberturk/87.txt        \n",
            "  inflating: haberturk/73.txt        \n",
            "  inflating: haberturk/92.txt        \n",
            "  inflating: haberturk/9.txt         \n",
            "  inflating: haberturk/68.txt        \n",
            "  inflating: haberturk/25.txt        \n",
            "  inflating: haberturk/86.txt        \n",
            "  inflating: haberturk/29.txt        \n",
            "  inflating: haberturk/95.txt        \n",
            "  inflating: haberturk/69.txt        \n",
            "  inflating: haberturk/88.txt        \n",
            "  inflating: haberturk/74.txt        \n",
            "  inflating: haberturk/2.txt         \n",
            "   creating: jornada/\n",
            "  inflating: jornada/98.txt          \n",
            "  inflating: jornada/56.txt          \n",
            "  inflating: jornada/44.txt          \n",
            "  inflating: jornada/64.txt          \n",
            "  inflating: jornada/90.txt          \n",
            "  inflating: jornada/101.txt         \n",
            "  inflating: jornada/121.txt         \n",
            "  inflating: jornada/36.txt          \n",
            " extracting: jornada/3.txt           \n",
            "  inflating: jornada/123.txt         \n",
            " extracting: jornada/6.txt           \n",
            "  inflating: jornada/118.txt         \n",
            "  inflating: jornada/113.txt         \n",
            "  inflating: jornada/75.txt          \n",
            "  inflating: jornada/67.txt          \n",
            "  inflating: jornada/97.txt          \n",
            "  inflating: jornada/53.txt          \n",
            "  inflating: jornada/84.txt          \n",
            "  inflating: jornada/30.txt          \n",
            "  inflating: jornada/11.txt          \n",
            "  inflating: jornada/62.txt          \n",
            "  inflating: jornada/93.txt          \n",
            "  inflating: jornada/48.txt          \n",
            "  inflating: jornada/22.txt          \n",
            "  inflating: jornada/110.txt         \n",
            "  inflating: jornada/4.txt           \n",
            "  inflating: jornada/15.txt          \n",
            "  inflating: jornada/51.txt          \n",
            "  inflating: jornada/5.txt           \n",
            "  inflating: jornada/38.txt          \n",
            "  inflating: jornada/83.txt          \n",
            "  inflating: jornada/54.txt          \n",
            "  inflating: jornada/58.txt          \n",
            "  inflating: jornada/31.txt          \n",
            "  inflating: jornada/81.txt          \n",
            "  inflating: jornada/43.txt          \n",
            "  inflating: jornada/17.txt          \n",
            "  inflating: jornada/115.txt         \n",
            "  inflating: jornada/41.txt          \n",
            "  inflating: jornada/35.txt          \n",
            " extracting: jornada/63.txt          \n",
            " extracting: jornada/13.txt          \n",
            "  inflating: jornada/10.txt          \n",
            "  inflating: jornada/71.txt          \n",
            "  inflating: jornada/59.txt          \n",
            "  inflating: jornada/112.txt         \n",
            "  inflating: jornada/45.txt          \n",
            "  inflating: jornada/28.txt          \n",
            "  inflating: jornada/34.txt          \n",
            "  inflating: jornada/105.txt         \n",
            "  inflating: jornada/18.txt          \n",
            "  inflating: jornada/109.txt         \n",
            "  inflating: jornada/1.txt           \n",
            "  inflating: jornada/100.txt         \n",
            "  inflating: jornada/33.txt          \n",
            "  inflating: jornada/104.txt         \n",
            "  inflating: jornada/85.txt          \n",
            "  inflating: jornada/66.txt          \n",
            "  inflating: jornada/47.txt          \n",
            "  inflating: jornada/116.txt         \n",
            "  inflating: jornada/91.txt          \n",
            "  inflating: jornada/111.txt         \n",
            "  inflating: jornada/24.txt          \n",
            "  inflating: jornada/107.txt         \n",
            "  inflating: jornada/55.txt          \n",
            "  inflating: jornada/82.txt          \n",
            "  inflating: jornada/52.txt          \n",
            "  inflating: jornada/19.txt          \n",
            "  inflating: jornada/76.txt          \n",
            "  inflating: jornada/60.txt          \n",
            "  inflating: jornada/8.txt           \n",
            "  inflating: jornada/80.txt          \n",
            "  inflating: jornada/16.txt          \n",
            "  inflating: jornada/99.txt          \n",
            "  inflating: jornada/102.txt         \n",
            "  inflating: jornada/57.txt          \n",
            "  inflating: jornada/40.txt          \n",
            "  inflating: jornada/20.txt          \n",
            "  inflating: jornada/70.txt          \n",
            "  inflating: jornada/46.txt          \n",
            "  inflating: jornada/50.txt          \n",
            "  inflating: jornada/77.txt          \n",
            "  inflating: jornada/12.txt          \n",
            "  inflating: jornada/49.txt          \n",
            "  inflating: jornada/65.txt          \n",
            "  inflating: jornada/32.txt          \n",
            "  inflating: jornada/89.txt          \n",
            " extracting: jornada/94.txt          \n",
            "  inflating: jornada/78.txt          \n",
            "  inflating: jornada/37.txt          \n",
            "  inflating: jornada/96.txt          \n",
            "  inflating: jornada/26.txt          \n",
            "  inflating: jornada/23.txt          \n",
            "  inflating: jornada/114.txt         \n",
            "  inflating: jornada/61.txt          \n",
            "  inflating: jornada/21.txt          \n",
            "  inflating: jornada/7.txt           \n",
            "  inflating: jornada/117.txt         \n",
            "  inflating: jornada/39.txt          \n",
            "  inflating: jornada/108.txt         \n",
            "  inflating: jornada/42.txt          \n",
            "  inflating: jornada/79.txt          \n",
            " extracting: jornada/14.txt          \n",
            "  inflating: jornada/27.txt          \n",
            "  inflating: jornada/72.txt          \n",
            "  inflating: jornada/120.txt         \n",
            "  inflating: jornada/103.txt         \n",
            "  inflating: jornada/87.txt          \n",
            "  inflating: jornada/73.txt          \n",
            "  inflating: jornada/122.txt         \n",
            "  inflating: jornada/92.txt          \n",
            "  inflating: jornada/9.txt           \n",
            "  inflating: jornada/68.txt          \n",
            "  inflating: jornada/25.txt          \n",
            "  inflating: jornada/86.txt          \n",
            "  inflating: jornada/119.txt         \n",
            "  inflating: jornada/29.txt          \n",
            "  inflating: jornada/95.txt          \n",
            "  inflating: jornada/69.txt          \n",
            "  inflating: jornada/106.txt         \n",
            "  inflating: jornada/88.txt          \n",
            "  inflating: jornada/74.txt          \n",
            "  inflating: jornada/2.txt           \n",
            "   creating: jungle/\n",
            "  inflating: jungle/3.txt            \n",
            "  inflating: jungle/6.txt            \n",
            "  inflating: jungle/4.txt            \n",
            "  inflating: jungle/5.txt            \n",
            "  inflating: jungle/10.txt           \n",
            "  inflating: jungle/1.txt            \n",
            "  inflating: jungle/8.txt            \n",
            "  inflating: jungle/7.txt            \n",
            "  inflating: jungle/9.txt            \n",
            "  inflating: jungle/2.txt            \n",
            "   creating: lefigaro/\n",
            "  inflating: lefigaro/3.txt          \n",
            "  inflating: lefigaro/6.txt          \n",
            "  inflating: lefigaro/11.txt         \n",
            "  inflating: lefigaro/4.txt          \n",
            "  inflating: lefigaro/15.txt         \n",
            "  inflating: lefigaro/5.txt          \n",
            "  inflating: lefigaro/17.txt         \n",
            "  inflating: lefigaro/13.txt         \n",
            "  inflating: lefigaro/10.txt         \n",
            "  inflating: lefigaro/18.txt         \n",
            "  inflating: lefigaro/1.txt          \n",
            "  inflating: lefigaro/19.txt         \n",
            "  inflating: lefigaro/8.txt          \n",
            "  inflating: lefigaro/16.txt         \n",
            "  inflating: lefigaro/20.txt         \n",
            " extracting: lefigaro/12.txt         \n",
            "  inflating: lefigaro/7.txt          \n",
            "  inflating: lefigaro/14.txt         \n",
            "  inflating: lefigaro/9.txt          \n",
            "  inflating: lefigaro/2.txt          \n",
            "   creating: magyarnarancs/\n",
            "  inflating: magyarnarancs/3.txt     \n",
            "  inflating: magyarnarancs/6.txt     \n",
            "  inflating: magyarnarancs/30.txt    \n",
            "  inflating: magyarnarancs/11.txt    \n",
            "  inflating: magyarnarancs/22.txt    \n",
            "  inflating: magyarnarancs/4.txt     \n",
            "  inflating: magyarnarancs/15.txt    \n",
            "  inflating: magyarnarancs/5.txt     \n",
            "  inflating: magyarnarancs/17.txt    \n",
            "  inflating: magyarnarancs/13.txt    \n",
            "  inflating: magyarnarancs/10.txt    \n",
            "  inflating: magyarnarancs/28.txt    \n",
            "  inflating: magyarnarancs/18.txt    \n",
            "  inflating: magyarnarancs/1.txt     \n",
            "  inflating: magyarnarancs/24.txt    \n",
            "  inflating: magyarnarancs/19.txt    \n",
            "  inflating: magyarnarancs/8.txt     \n",
            "  inflating: magyarnarancs/16.txt    \n",
            "  inflating: magyarnarancs/20.txt    \n",
            "  inflating: magyarnarancs/12.txt    \n",
            "  inflating: magyarnarancs/26.txt    \n",
            "  inflating: magyarnarancs/23.txt    \n",
            "  inflating: magyarnarancs/21.txt    \n",
            "  inflating: magyarnarancs/7.txt     \n",
            "  inflating: magyarnarancs/14.txt    \n",
            "  inflating: magyarnarancs/27.txt    \n",
            "  inflating: magyarnarancs/9.txt     \n",
            "  inflating: magyarnarancs/25.txt    \n",
            "  inflating: magyarnarancs/29.txt    \n",
            "  inflating: magyarnarancs/2.txt     \n",
            "   creating: nzherald/\n",
            "  inflating: nzherald/3.txt          \n",
            "  inflating: nzherald/6.txt          \n",
            "  inflating: nzherald/4.txt          \n",
            "  inflating: nzherald/5.txt          \n",
            "  inflating: nzherald/10.txt         \n",
            "  inflating: nzherald/1.txt          \n",
            "  inflating: nzherald/8.txt          \n",
            "  inflating: nzherald/7.txt          \n",
            "  inflating: nzherald/9.txt          \n",
            "  inflating: nzherald/2.txt          \n",
            "   creating: star/\n",
            "  inflating: star/3.txt              \n",
            "  inflating: star/6.txt              \n",
            "  inflating: star/11.txt             \n",
            "  inflating: star/4.txt              \n",
            "  inflating: star/5.txt              \n",
            "  inflating: star/13.txt             \n",
            "  inflating: star/10.txt             \n",
            "  inflating: star/1.txt              \n",
            "  inflating: star/8.txt              \n",
            "  inflating: star/12.txt             \n",
            "  inflating: star/7.txt              \n",
            "  inflating: star/14.txt             \n",
            "  inflating: star/9.txt              \n",
            "  inflating: star/2.txt              \n",
            "   creating: theage/\n",
            "  inflating: theage/3.txt            \n",
            "  inflating: theage/6.txt            \n",
            "  inflating: theage/11.txt           \n",
            "  inflating: theage/4.txt            \n",
            "  inflating: theage/15.txt           \n",
            "  inflating: theage/5.txt            \n",
            "  inflating: theage/17.txt           \n",
            "  inflating: theage/13.txt           \n",
            "  inflating: theage/10.txt           \n",
            "  inflating: theage/18.txt           \n",
            "  inflating: theage/1.txt            \n",
            "  inflating: theage/19.txt           \n",
            "  inflating: theage/8.txt            \n",
            "  inflating: theage/16.txt           \n",
            "  inflating: theage/20.txt           \n",
            "  inflating: theage/12.txt           \n",
            "  inflating: theage/7.txt            \n",
            "  inflating: theage/14.txt           \n",
            "  inflating: theage/9.txt            \n",
            "  inflating: theage/2.txt            \n",
            "   creating: theguardian/\n",
            "  inflating: theguardian/98.txt      \n",
            "  inflating: theguardian/56.txt      \n",
            "  inflating: theguardian/44.txt      \n",
            "  inflating: theguardian/64.txt      \n",
            "  inflating: theguardian/90.txt      \n",
            "  inflating: theguardian/101.txt     \n",
            "  inflating: theguardian/36.txt      \n",
            "  inflating: theguardian/3.txt       \n",
            "  inflating: theguardian/6.txt       \n",
            "  inflating: theguardian/113.txt     \n",
            "  inflating: theguardian/75.txt      \n",
            "  inflating: theguardian/67.txt      \n",
            "  inflating: theguardian/97.txt      \n",
            "  inflating: theguardian/53.txt      \n",
            "  inflating: theguardian/84.txt      \n",
            "  inflating: theguardian/30.txt      \n",
            "  inflating: theguardian/11.txt      \n",
            "  inflating: theguardian/62.txt      \n",
            "  inflating: theguardian/93.txt      \n",
            "  inflating: theguardian/48.txt      \n",
            "  inflating: theguardian/22.txt      \n",
            "  inflating: theguardian/110.txt     \n",
            "  inflating: theguardian/4.txt       \n",
            "  inflating: theguardian/15.txt      \n",
            "  inflating: theguardian/51.txt      \n",
            "  inflating: theguardian/5.txt       \n",
            "  inflating: theguardian/38.txt      \n",
            "  inflating: theguardian/83.txt      \n",
            "  inflating: theguardian/54.txt      \n",
            "  inflating: theguardian/58.txt      \n",
            "  inflating: theguardian/31.txt      \n",
            "  inflating: theguardian/81.txt      \n",
            "  inflating: theguardian/43.txt      \n",
            "  inflating: theguardian/17.txt      \n",
            "  inflating: theguardian/41.txt      \n",
            "  inflating: theguardian/35.txt      \n",
            "  inflating: theguardian/63.txt      \n",
            "  inflating: theguardian/13.txt      \n",
            "  inflating: theguardian/10.txt      \n",
            "  inflating: theguardian/71.txt      \n",
            "  inflating: theguardian/59.txt      \n",
            "  inflating: theguardian/112.txt     \n",
            "  inflating: theguardian/45.txt      \n",
            "  inflating: theguardian/28.txt      \n",
            "  inflating: theguardian/34.txt      \n",
            "  inflating: theguardian/105.txt     \n",
            "  inflating: theguardian/18.txt      \n",
            "  inflating: theguardian/109.txt     \n",
            "  inflating: theguardian/1.txt       \n",
            "  inflating: theguardian/100.txt     \n",
            "  inflating: theguardian/33.txt      \n",
            "  inflating: theguardian/104.txt     \n",
            "  inflating: theguardian/85.txt      \n",
            "  inflating: theguardian/66.txt      \n",
            "  inflating: theguardian/47.txt      \n",
            "  inflating: theguardian/91.txt      \n",
            "  inflating: theguardian/111.txt     \n",
            "  inflating: theguardian/24.txt      \n",
            "  inflating: theguardian/107.txt     \n",
            "  inflating: theguardian/55.txt      \n",
            "  inflating: theguardian/82.txt      \n",
            "  inflating: theguardian/52.txt      \n",
            "  inflating: theguardian/19.txt      \n",
            "  inflating: theguardian/76.txt      \n",
            "  inflating: theguardian/60.txt      \n",
            "  inflating: theguardian/8.txt       \n",
            "  inflating: theguardian/80.txt      \n",
            "  inflating: theguardian/16.txt      \n",
            "  inflating: theguardian/99.txt      \n",
            "  inflating: theguardian/102.txt     \n",
            "  inflating: theguardian/57.txt      \n",
            "  inflating: theguardian/40.txt      \n",
            "  inflating: theguardian/20.txt      \n",
            "  inflating: theguardian/70.txt      \n",
            "  inflating: theguardian/46.txt      \n",
            "  inflating: theguardian/50.txt      \n",
            "  inflating: theguardian/77.txt      \n",
            "  inflating: theguardian/12.txt      \n",
            "  inflating: theguardian/49.txt      \n",
            "  inflating: theguardian/65.txt      \n",
            "  inflating: theguardian/32.txt      \n",
            "  inflating: theguardian/89.txt      \n",
            "  inflating: theguardian/94.txt      \n",
            "  inflating: theguardian/78.txt      \n",
            "  inflating: theguardian/37.txt      \n",
            "  inflating: theguardian/96.txt      \n",
            "  inflating: theguardian/26.txt      \n",
            "  inflating: theguardian/23.txt      \n",
            "  inflating: theguardian/114.txt     \n",
            "  inflating: theguardian/61.txt      \n",
            "  inflating: theguardian/21.txt      \n",
            "  inflating: theguardian/7.txt       \n",
            "  inflating: theguardian/39.txt      \n",
            "  inflating: theguardian/108.txt     \n",
            "  inflating: theguardian/42.txt      \n",
            "  inflating: theguardian/79.txt      \n",
            "  inflating: theguardian/14.txt      \n",
            "  inflating: theguardian/27.txt      \n",
            "  inflating: theguardian/72.txt      \n",
            "  inflating: theguardian/103.txt     \n",
            "  inflating: theguardian/87.txt      \n",
            "  inflating: theguardian/73.txt      \n",
            "  inflating: theguardian/92.txt      \n",
            "  inflating: theguardian/9.txt       \n",
            "  inflating: theguardian/68.txt      \n",
            "  inflating: theguardian/25.txt      \n",
            "  inflating: theguardian/86.txt      \n",
            "  inflating: theguardian/29.txt      \n",
            "  inflating: theguardian/95.txt      \n",
            "  inflating: theguardian/69.txt      \n",
            "  inflating: theguardian/106.txt     \n",
            "  inflating: theguardian/88.txt      \n",
            "  inflating: theguardian/74.txt      \n",
            "  inflating: theguardian/2.txt       \n",
            "   creating: thehill/\n",
            "  inflating: thehill/3.txt           \n",
            "  inflating: thehill/6.txt           \n",
            "  inflating: thehill/4.txt           \n",
            "  inflating: thehill/5.txt           \n",
            "  inflating: thehill/10.txt          \n",
            "  inflating: thehill/1.txt           \n",
            "  inflating: thehill/8.txt           \n",
            "  inflating: thehill/7.txt           \n",
            "  inflating: thehill/9.txt           \n",
            "  inflating: thehill/2.txt           \n",
            "   creating: thesun/\n",
            "  inflating: thesun/98.txt           \n",
            "  inflating: thesun/56.txt           \n",
            "  inflating: thesun/44.txt           \n",
            "  inflating: thesun/64.txt           \n",
            "  inflating: thesun/90.txt           \n",
            "  inflating: thesun/36.txt           \n",
            "  inflating: thesun/3.txt            \n",
            "  inflating: thesun/6.txt            \n",
            "  inflating: thesun/75.txt           \n",
            "  inflating: thesun/67.txt           \n",
            "  inflating: thesun/97.txt           \n",
            "  inflating: thesun/53.txt           \n",
            "  inflating: thesun/84.txt           \n",
            "  inflating: thesun/30.txt           \n",
            "  inflating: thesun/11.txt           \n",
            "  inflating: thesun/62.txt           \n",
            "  inflating: thesun/93.txt           \n",
            "  inflating: thesun/48.txt           \n",
            "  inflating: thesun/22.txt           \n",
            "  inflating: thesun/4.txt            \n",
            "  inflating: thesun/15.txt           \n",
            "  inflating: thesun/51.txt           \n",
            "  inflating: thesun/5.txt            \n",
            "  inflating: thesun/38.txt           \n",
            "  inflating: thesun/83.txt           \n",
            "  inflating: thesun/54.txt           \n",
            "  inflating: thesun/58.txt           \n",
            "  inflating: thesun/31.txt           \n",
            "  inflating: thesun/81.txt           \n",
            "  inflating: thesun/43.txt           \n",
            "  inflating: thesun/17.txt           \n",
            "  inflating: thesun/41.txt           \n",
            "  inflating: thesun/35.txt           \n",
            "  inflating: thesun/63.txt           \n",
            "  inflating: thesun/13.txt           \n",
            "  inflating: thesun/10.txt           \n",
            "  inflating: thesun/71.txt           \n",
            "  inflating: thesun/59.txt           \n",
            "  inflating: thesun/45.txt           \n",
            "  inflating: thesun/28.txt           \n",
            "  inflating: thesun/34.txt           \n",
            "  inflating: thesun/18.txt           \n",
            "  inflating: thesun/1.txt            \n",
            "  inflating: thesun/100.txt          \n",
            "  inflating: thesun/33.txt           \n",
            "  inflating: thesun/85.txt           \n",
            "  inflating: thesun/66.txt           \n",
            "  inflating: thesun/47.txt           \n",
            "  inflating: thesun/91.txt           \n",
            "  inflating: thesun/24.txt           \n",
            "  inflating: thesun/55.txt           \n",
            "  inflating: thesun/82.txt           \n",
            "  inflating: thesun/52.txt           \n",
            "  inflating: thesun/19.txt           \n",
            "  inflating: thesun/76.txt           \n",
            "  inflating: thesun/60.txt           \n",
            "  inflating: thesun/8.txt            \n",
            "  inflating: thesun/80.txt           \n",
            "  inflating: thesun/16.txt           \n",
            "  inflating: thesun/99.txt           \n",
            "  inflating: thesun/57.txt           \n",
            "  inflating: thesun/40.txt           \n",
            "  inflating: thesun/20.txt           \n",
            "  inflating: thesun/70.txt           \n",
            "  inflating: thesun/46.txt           \n",
            "  inflating: thesun/50.txt           \n",
            "  inflating: thesun/77.txt           \n",
            "  inflating: thesun/12.txt           \n",
            "  inflating: thesun/49.txt           \n",
            "  inflating: thesun/65.txt           \n",
            "  inflating: thesun/32.txt           \n",
            "  inflating: thesun/89.txt           \n",
            "  inflating: thesun/94.txt           \n",
            "  inflating: thesun/78.txt           \n",
            "  inflating: thesun/37.txt           \n",
            "  inflating: thesun/96.txt           \n",
            "  inflating: thesun/26.txt           \n",
            "  inflating: thesun/23.txt           \n",
            "  inflating: thesun/61.txt           \n",
            "  inflating: thesun/21.txt           \n",
            "  inflating: thesun/7.txt            \n",
            "  inflating: thesun/39.txt           \n",
            "  inflating: thesun/42.txt           \n",
            "  inflating: thesun/79.txt           \n",
            "  inflating: thesun/14.txt           \n",
            "  inflating: thesun/27.txt           \n",
            "  inflating: thesun/72.txt           \n",
            "  inflating: thesun/87.txt           \n",
            "  inflating: thesun/73.txt           \n",
            "  inflating: thesun/92.txt           \n",
            "  inflating: thesun/9.txt            \n",
            "  inflating: thesun/68.txt           \n",
            "  inflating: thesun/25.txt           \n",
            "  inflating: thesun/86.txt           \n",
            "  inflating: thesun/29.txt           \n",
            "  inflating: thesun/95.txt           \n",
            "  inflating: thesun/69.txt           \n",
            "  inflating: thesun/88.txt           \n",
            "  inflating: thesun/74.txt           \n",
            "  inflating: thesun/2.txt            \n",
            "  inflating: full_data.csv           \n",
            "  inflating: metadata                \n"
          ]
        }
      ]
    },
    {
      "cell_type": "code",
      "source": [
        "!pip install transformers"
      ],
      "metadata": {
        "colab": {
          "base_uri": "https://localhost:8080/",
          "height": 628
        },
        "id": "078Bla5JLHKe",
        "outputId": "b13b0e78-eb59-486a-be87-07d40c4236c5"
      },
      "execution_count": 83,
      "outputs": [
        {
          "output_type": "stream",
          "name": "stdout",
          "text": [
            "Looking in indexes: https://pypi.org/simple, https://us-python.pkg.dev/colab-wheels/public/simple/\n",
            "Requirement already satisfied: transformers in /usr/local/lib/python3.7/dist-packages (4.20.1)\n",
            "Collecting pandas_ml\n",
            "  Downloading pandas_ml-0.6.1-py3-none-any.whl (100 kB)\n",
            "\u001b[K     |████████████████████████████████| 100 kB 4.4 MB/s \n",
            "\u001b[?25hRequirement already satisfied: tokenizers!=0.11.3,<0.13,>=0.11.1 in /usr/local/lib/python3.7/dist-packages (from transformers) (0.12.1)\n",
            "Requirement already satisfied: packaging>=20.0 in /usr/local/lib/python3.7/dist-packages (from transformers) (21.3)\n",
            "Requirement already satisfied: huggingface-hub<1.0,>=0.1.0 in /usr/local/lib/python3.7/dist-packages (from transformers) (0.8.1)\n",
            "Requirement already satisfied: filelock in /usr/local/lib/python3.7/dist-packages (from transformers) (3.7.1)\n",
            "Requirement already satisfied: requests in /usr/local/lib/python3.7/dist-packages (from transformers) (2.23.0)\n",
            "Requirement already satisfied: tqdm>=4.27 in /usr/local/lib/python3.7/dist-packages (from transformers) (4.64.0)\n",
            "Requirement already satisfied: regex!=2019.12.17 in /usr/local/lib/python3.7/dist-packages (from transformers) (2022.6.2)\n",
            "Requirement already satisfied: importlib-metadata in /usr/local/lib/python3.7/dist-packages (from transformers) (4.11.4)\n",
            "Requirement already satisfied: pyyaml>=5.1 in /usr/local/lib/python3.7/dist-packages (from transformers) (6.0)\n",
            "Requirement already satisfied: numpy>=1.17 in /usr/local/lib/python3.7/dist-packages (from transformers) (1.21.6)\n",
            "Requirement already satisfied: typing-extensions>=3.7.4.3 in /usr/local/lib/python3.7/dist-packages (from huggingface-hub<1.0,>=0.1.0->transformers) (4.1.1)\n",
            "Requirement already satisfied: pyparsing!=3.0.5,>=2.0.2 in /usr/local/lib/python3.7/dist-packages (from packaging>=20.0->transformers) (3.0.9)\n",
            "Collecting enum34\n",
            "  Downloading enum34-1.1.10-py3-none-any.whl (11 kB)\n",
            "Requirement already satisfied: pandas>=0.19.0 in /usr/local/lib/python3.7/dist-packages (from pandas_ml) (1.3.5)\n",
            "Requirement already satisfied: python-dateutil>=2.7.3 in /usr/local/lib/python3.7/dist-packages (from pandas>=0.19.0->pandas_ml) (2.8.2)\n",
            "Requirement already satisfied: pytz>=2017.3 in /usr/local/lib/python3.7/dist-packages (from pandas>=0.19.0->pandas_ml) (2022.1)\n",
            "Requirement already satisfied: six>=1.5 in /usr/local/lib/python3.7/dist-packages (from python-dateutil>=2.7.3->pandas>=0.19.0->pandas_ml) (1.15.0)\n",
            "Requirement already satisfied: zipp>=0.5 in /usr/local/lib/python3.7/dist-packages (from importlib-metadata->transformers) (3.8.0)\n",
            "Requirement already satisfied: idna<3,>=2.5 in /usr/local/lib/python3.7/dist-packages (from requests->transformers) (2.10)\n",
            "Requirement already satisfied: chardet<4,>=3.0.2 in /usr/local/lib/python3.7/dist-packages (from requests->transformers) (3.0.4)\n",
            "Requirement already satisfied: urllib3!=1.25.0,!=1.25.1,<1.26,>=1.21.1 in /usr/local/lib/python3.7/dist-packages (from requests->transformers) (1.24.3)\n",
            "Requirement already satisfied: certifi>=2017.4.17 in /usr/local/lib/python3.7/dist-packages (from requests->transformers) (2022.6.15)\n",
            "Installing collected packages: enum34, pandas-ml\n",
            "Successfully installed enum34-1.1.10 pandas-ml-0.6.1\n"
          ]
        },
        {
          "output_type": "display_data",
          "data": {
            "application/vnd.colab-display-data+json": {
              "pip_warning": {
                "packages": [
                  "enum"
                ]
              }
            }
          },
          "metadata": {}
        }
      ]
    },
    {
      "cell_type": "code",
      "execution_count": 85,
      "outputs": [],
      "source": [
        "import matplotlib.pyplot as plt\n",
        "import numpy as np\n",
        "import os\n",
        "import pandas as pd\n",
        "import torch\n",
        "import seaborn as sn\n",
        "\n",
        "from torch import nn\n",
        "from torch.optim import Adam\n",
        "from torch.utils.data import DataLoader\n",
        "from transformers import BertTokenizer, BertModel\n",
        "from tqdm import tqdm\n",
        "from sklearn.model_selection import train_test_split\n",
        "\n",
        "RANDOM_STATE = 42\n",
        "use_cuda = torch.cuda.is_available()\n",
        "device = torch.device('cuda' if use_cuda else 'cpu')"
      ],
      "metadata": {
        "pycharm": {
          "name": "#%%\n"
        },
        "id": "UMlPSTalIFGe"
      }
    },
    {
      "cell_type": "markdown",
      "source": [
        "# Подготовка на модела и данните"
      ],
      "metadata": {
        "id": "BpwIgrxaNmAD"
      }
    },
    {
      "cell_type": "code",
      "execution_count": null,
      "outputs": [],
      "source": [
        "class ArticleDataset(torch.utils.data.Dataset):\n",
        "    def __init__(self, data, label_mapping):\n",
        "        self.__data = data\n",
        "        self.__label_mapping = label_mapping\n",
        "\n",
        "    def __len__(self):\n",
        "        return self.__data.shape[0]\n",
        "\n",
        "    def __getitem__(self, idx):\n",
        "        row = self.__data.iloc[idx]\n",
        "\n",
        "        target_label = row['idealogyLabel']\n",
        "        article_text_location = row['articleText']\n",
        "\n",
        "        with open(os.path.join('data', article_text_location)) as fp:\n",
        "            article_text = fp.read()\n",
        "\n",
        "        return article_text, self.__label_mapping[target_label]"
      ],
      "metadata": {
        "pycharm": {
          "name": "#%%\n"
        },
        "id": "ltcWaN6PIFGh"
      }
    },
    {
      "cell_type": "code",
      "execution_count": 73,
      "outputs": [],
      "source": [
        "# Model itself\n",
        "class ArticleProfilerModel(nn.Module):\n",
        "    def __init__(self, dropout=0.5, amount_of_categories=9):\n",
        "        super(ArticleProfilerModel, self).__init__()\n",
        "\n",
        "        self.__tokenizer = BertTokenizer.from_pretrained('bert-base-multilingual-cased')\n",
        "        self.__model = BertModel.from_pretrained(\"bert-base-multilingual-cased\").to('cuda')\n",
        "\n",
        "        self.__dropout = nn.Dropout(dropout).to('cuda')\n",
        "        \n",
        "        self.__linear = nn.Linear(768, amount_of_categories).to('cuda')\n",
        "        self.__relu = nn.ReLU().to('cuda')\n",
        "        \n",
        "    def forward(self, text):\n",
        "        encoded_input = self.__tokenizer(text, return_tensors='pt', \n",
        "                                         truncation=True, padding='max_length').to('cuda')\n",
        "        output = self.__model(**encoded_input).pooler_output.to('cuda')\n",
        "\n",
        "        dropout_output = self.__dropout(output).to('cuda')\n",
        "\n",
        "        linear_output = self.__linear(dropout_output).to('cuda')\n",
        "        final_output = self.__relu(linear_output).to('cuda')\n",
        "\n",
        "        return final_output"
      ],
      "metadata": {
        "pycharm": {
          "name": "#%%\n"
        },
        "id": "4ceG6aiGIFGi"
      }
    },
    {
      "cell_type": "code",
      "execution_count": 74,
      "outputs": [],
      "source": [
        "# Train & Test loop\n",
        "def train_loop(model, train_dataloader, epochs, loss_fn, optimizer):\n",
        "    for epoch in range(epochs):\n",
        "        size = len(train_dataloader.dataset)\n",
        "        print(f'Epoch {epoch}')\n",
        "        for batch, (X, y) in tqdm(enumerate(train_dataloader)):\n",
        "            prediction = model(X)\n",
        "            y = y.to('cuda')\n",
        "\n",
        "            loss = loss_fn(prediction, y)\n",
        "\n",
        "            optimizer.zero_grad()\n",
        "            loss.backward()\n",
        "            optimizer.step()\n",
        "\n",
        "\n",
        "            if batch % 100 == 0:\n",
        "                loss, current = loss.item(), batch * len(X)\n",
        "                print(f\"loss: {loss:>7f}  [{current:>5d}/{size:>5d}]\")\n",
        "\n",
        "def test_loop(model, dataloader, loss_fn):\n",
        "        size = len(dataloader.dataset)\n",
        "        num_batches = len(dataloader)\n",
        "        test_loss, correct = 0, 0\n",
        "\n",
        "        with torch.no_grad():\n",
        "            for X, y in dataloader:\n",
        "                pred = model(X)\n",
        "                y = y.to('cuda')\n",
        "                test_loss += loss_fn(pred, y).item()\n",
        "                correct += (pred.argmax(1) == y).type(torch.float).sum().item()\n",
        "\n",
        "        test_loss /= num_batches\n",
        "        correct /= size\n",
        "        print(f\"Test Error: \\n Accuracy: {(100*correct):>0.1f}%, Avg loss: {test_loss:>8f} \\n\")"
      ],
      "metadata": {
        "pycharm": {
          "name": "#%%\n"
        },
        "id": "qN6Gpi-WIFGk"
      }
    },
    {
      "cell_type": "code",
      "source": [
        "# Metrics calculations\n",
        "def confusion_matrix(model, dataloader, label_map):\n",
        "        size = len(dataloader.dataset)\n",
        "        num_batches = len(dataloader)\n",
        "        test_loss, correct = 0, 0\n",
        "\n",
        "        y_predicted = []\n",
        "        y_actual = []\n",
        "\n",
        "        with torch.no_grad():\n",
        "            for X, y in dataloader:\n",
        "                pred = model(X)\n",
        "                y = y.to('cuda')\n",
        "\n",
        "                y_predicted.append((pred.argmax(1)).type(torch.int).item())\n",
        "                y_actual.append(y.item())\n",
        "\n",
        "        y_predicted = [label_map[val] for val in y_predicted]\n",
        "        y_actual = [label_map[val] for val in y_actual]\n",
        "\n",
        "        data = {\n",
        "            'y_actual': y_actual, \n",
        "            'y_predicted': y_predicted\n",
        "        }\n",
        "\n",
        "        df = pd.DataFrame(data, columns=['y_actual','y_predicted'])\n",
        "        return pd.crosstab(df['y_actual'], df['y_predicted'], rownames=['Actual'], colnames=['Predicted'])\n",
        "\n",
        "def calculate_metrics(matrix):\n",
        "    tp_total = 0\n",
        "    tn_total = 0\n",
        "    fp_total = 0\n",
        "    fn_total = 0\n",
        "\n",
        "    for idx, row in enumerate(matrix):\n",
        "        tp = matrix[row][row]\n",
        "        fp = matrix[row].sum() - matrix[row][row]\n",
        "        fn = matrix.iloc[idx].sum() - matrix[row][row]\n",
        "        tn = matrix.sum().sum() - tp - fp - fn\n",
        "\n",
        "        tp_total += tp\n",
        "        tn_total += tn\n",
        "        fp_total += fp\n",
        "        fn_total += fn\n",
        "        \n",
        "    return tp_total, tn_total, fp_total, fn_total"
      ],
      "metadata": {
        "id": "X4Lo_0nmglAv"
      },
      "execution_count": null,
      "outputs": []
    },
    {
      "cell_type": "code",
      "execution_count": 75,
      "outputs": [
        {
          "output_type": "stream",
          "name": "stderr",
          "text": [
            "Some weights of the model checkpoint at bert-base-multilingual-cased were not used when initializing BertModel: ['cls.predictions.transform.dense.weight', 'cls.predictions.transform.LayerNorm.weight', 'cls.predictions.decoder.weight', 'cls.predictions.transform.dense.bias', 'cls.seq_relationship.weight', 'cls.predictions.transform.LayerNorm.bias', 'cls.seq_relationship.bias', 'cls.predictions.bias']\n",
            "- This IS expected if you are initializing BertModel from the checkpoint of a model trained on another task or with another architecture (e.g. initializing a BertForSequenceClassification model from a BertForPreTraining model).\n",
            "- This IS NOT expected if you are initializing BertModel from the checkpoint of a model that you expect to be exactly identical (initializing a BertForSequenceClassification model from a BertForSequenceClassification model).\n"
          ]
        }
      ],
      "source": [
        "# Running the model with normal labels \n",
        "full_data = pd.read_csv(os.path.join('data', 'full_data.csv'))\n",
        "train_data, test_data = train_test_split(full_data, random_state=RANDOM_STATE)\n",
        "\n",
        "label_mapping = {item: index for index, item in enumerate(full_data['idealogyLabel'].value_counts().keys())}\n",
        "label_revmapping = {index: item for index, item in enumerate(full_data['idealogyLabel'].value_counts().keys())}\n",
        "\n",
        "train_dataset = ArticleDataset(train_data, label_mapping)\n",
        "train_dataloader = DataLoader(train_dataset, batch_size=2)\n",
        "\n",
        "test_dataset = ArticleDataset(test_data, label_mapping)\n",
        "test_dataloader = DataLoader(test_dataset, batch_size=2)\n",
        "\n",
        "model = ArticleProfilerModel(amount_of_categories=len(label_mapping))\n",
        "\n",
        "learning_rate = 1e-5\n",
        "optimizer = Adam(model.parameters(), lr=learning_rate)"
      ],
      "metadata": {
        "pycharm": {
          "name": "#%%\n"
        },
        "id": "Rq0NJH8XIFGm",
        "outputId": "add0e323-0389-49dd-9cee-2e9f5de58ede",
        "colab": {
          "base_uri": "https://localhost:8080/"
        }
      }
    },
    {
      "cell_type": "code",
      "execution_count": 76,
      "outputs": [
        {
          "output_type": "stream",
          "name": "stdout",
          "text": [
            "Epoch 0\n"
          ]
        },
        {
          "output_type": "stream",
          "name": "stderr",
          "text": [
            "1it [00:00,  5.69it/s]"
          ]
        },
        {
          "output_type": "stream",
          "name": "stdout",
          "text": [
            "loss: 2.221405  [    0/ 1000]\n"
          ]
        },
        {
          "output_type": "stream",
          "name": "stderr",
          "text": [
            "102it [00:16,  6.47it/s]"
          ]
        },
        {
          "output_type": "stream",
          "name": "stdout",
          "text": [
            "loss: 2.093501  [  200/ 1000]\n"
          ]
        },
        {
          "output_type": "stream",
          "name": "stderr",
          "text": [
            "202it [00:32,  6.22it/s]"
          ]
        },
        {
          "output_type": "stream",
          "name": "stdout",
          "text": [
            "loss: 1.588262  [  400/ 1000]\n"
          ]
        },
        {
          "output_type": "stream",
          "name": "stderr",
          "text": [
            "302it [00:47,  6.23it/s]"
          ]
        },
        {
          "output_type": "stream",
          "name": "stdout",
          "text": [
            "loss: 0.746441  [  600/ 1000]\n"
          ]
        },
        {
          "output_type": "stream",
          "name": "stderr",
          "text": [
            "402it [01:03,  6.14it/s]"
          ]
        },
        {
          "output_type": "stream",
          "name": "stdout",
          "text": [
            "loss: 1.796613  [  800/ 1000]\n"
          ]
        },
        {
          "output_type": "stream",
          "name": "stderr",
          "text": [
            "500it [01:19,  6.32it/s]\n"
          ]
        },
        {
          "output_type": "stream",
          "name": "stdout",
          "text": [
            "Epoch 1\n"
          ]
        },
        {
          "output_type": "stream",
          "name": "stderr",
          "text": [
            "1it [00:00,  5.93it/s]"
          ]
        },
        {
          "output_type": "stream",
          "name": "stdout",
          "text": [
            "loss: 2.187590  [    0/ 1000]\n"
          ]
        },
        {
          "output_type": "stream",
          "name": "stderr",
          "text": [
            "102it [00:16,  6.45it/s]"
          ]
        },
        {
          "output_type": "stream",
          "name": "stdout",
          "text": [
            "loss: 0.932652  [  200/ 1000]\n"
          ]
        },
        {
          "output_type": "stream",
          "name": "stderr",
          "text": [
            "202it [00:31,  6.22it/s]"
          ]
        },
        {
          "output_type": "stream",
          "name": "stdout",
          "text": [
            "loss: 0.362938  [  400/ 1000]\n"
          ]
        },
        {
          "output_type": "stream",
          "name": "stderr",
          "text": [
            "302it [00:47,  6.23it/s]"
          ]
        },
        {
          "output_type": "stream",
          "name": "stdout",
          "text": [
            "loss: 0.322438  [  600/ 1000]\n"
          ]
        },
        {
          "output_type": "stream",
          "name": "stderr",
          "text": [
            "402it [01:03,  6.18it/s]"
          ]
        },
        {
          "output_type": "stream",
          "name": "stdout",
          "text": [
            "loss: 1.074939  [  800/ 1000]\n"
          ]
        },
        {
          "output_type": "stream",
          "name": "stderr",
          "text": [
            "500it [01:18,  6.35it/s]\n"
          ]
        },
        {
          "output_type": "stream",
          "name": "stdout",
          "text": [
            "Epoch 2\n"
          ]
        },
        {
          "output_type": "stream",
          "name": "stderr",
          "text": [
            "1it [00:00,  5.82it/s]"
          ]
        },
        {
          "output_type": "stream",
          "name": "stdout",
          "text": [
            "loss: 2.134324  [    0/ 1000]\n"
          ]
        },
        {
          "output_type": "stream",
          "name": "stderr",
          "text": [
            "102it [00:16,  6.49it/s]"
          ]
        },
        {
          "output_type": "stream",
          "name": "stdout",
          "text": [
            "loss: 0.939971  [  200/ 1000]\n"
          ]
        },
        {
          "output_type": "stream",
          "name": "stderr",
          "text": [
            "202it [00:31,  6.20it/s]"
          ]
        },
        {
          "output_type": "stream",
          "name": "stdout",
          "text": [
            "loss: 0.114145  [  400/ 1000]\n"
          ]
        },
        {
          "output_type": "stream",
          "name": "stderr",
          "text": [
            "302it [00:47,  6.21it/s]"
          ]
        },
        {
          "output_type": "stream",
          "name": "stdout",
          "text": [
            "loss: 0.384963  [  600/ 1000]\n"
          ]
        },
        {
          "output_type": "stream",
          "name": "stderr",
          "text": [
            "402it [01:03,  6.15it/s]"
          ]
        },
        {
          "output_type": "stream",
          "name": "stdout",
          "text": [
            "loss: 0.989244  [  800/ 1000]\n"
          ]
        },
        {
          "output_type": "stream",
          "name": "stderr",
          "text": [
            "500it [01:18,  6.34it/s]\n"
          ]
        },
        {
          "output_type": "stream",
          "name": "stdout",
          "text": [
            "Epoch 3\n"
          ]
        },
        {
          "output_type": "stream",
          "name": "stderr",
          "text": [
            "1it [00:00,  5.84it/s]"
          ]
        },
        {
          "output_type": "stream",
          "name": "stdout",
          "text": [
            "loss: 1.526951  [    0/ 1000]\n"
          ]
        },
        {
          "output_type": "stream",
          "name": "stderr",
          "text": [
            "102it [00:16,  6.46it/s]"
          ]
        },
        {
          "output_type": "stream",
          "name": "stdout",
          "text": [
            "loss: 0.633834  [  200/ 1000]\n"
          ]
        },
        {
          "output_type": "stream",
          "name": "stderr",
          "text": [
            "202it [00:31,  6.20it/s]"
          ]
        },
        {
          "output_type": "stream",
          "name": "stdout",
          "text": [
            "loss: 0.478276  [  400/ 1000]\n"
          ]
        },
        {
          "output_type": "stream",
          "name": "stderr",
          "text": [
            "302it [00:47,  6.18it/s]"
          ]
        },
        {
          "output_type": "stream",
          "name": "stdout",
          "text": [
            "loss: 0.200643  [  600/ 1000]\n"
          ]
        },
        {
          "output_type": "stream",
          "name": "stderr",
          "text": [
            "402it [01:03,  6.12it/s]"
          ]
        },
        {
          "output_type": "stream",
          "name": "stdout",
          "text": [
            "loss: 0.728233  [  800/ 1000]\n"
          ]
        },
        {
          "output_type": "stream",
          "name": "stderr",
          "text": [
            "500it [01:18,  6.33it/s]\n"
          ]
        },
        {
          "output_type": "stream",
          "name": "stdout",
          "text": [
            "Epoch 4\n"
          ]
        },
        {
          "output_type": "stream",
          "name": "stderr",
          "text": [
            "1it [00:00,  5.89it/s]"
          ]
        },
        {
          "output_type": "stream",
          "name": "stdout",
          "text": [
            "loss: 0.908150  [    0/ 1000]\n"
          ]
        },
        {
          "output_type": "stream",
          "name": "stderr",
          "text": [
            "102it [00:16,  6.47it/s]"
          ]
        },
        {
          "output_type": "stream",
          "name": "stdout",
          "text": [
            "loss: 0.856470  [  200/ 1000]\n"
          ]
        },
        {
          "output_type": "stream",
          "name": "stderr",
          "text": [
            "202it [00:31,  6.24it/s]"
          ]
        },
        {
          "output_type": "stream",
          "name": "stdout",
          "text": [
            "loss: 0.051220  [  400/ 1000]\n"
          ]
        },
        {
          "output_type": "stream",
          "name": "stderr",
          "text": [
            "302it [00:47,  6.24it/s]"
          ]
        },
        {
          "output_type": "stream",
          "name": "stdout",
          "text": [
            "loss: 0.367351  [  600/ 1000]\n"
          ]
        },
        {
          "output_type": "stream",
          "name": "stderr",
          "text": [
            "402it [01:03,  6.19it/s]"
          ]
        },
        {
          "output_type": "stream",
          "name": "stdout",
          "text": [
            "loss: 0.642992  [  800/ 1000]\n"
          ]
        },
        {
          "output_type": "stream",
          "name": "stderr",
          "text": [
            "500it [01:18,  6.35it/s]\n"
          ]
        },
        {
          "output_type": "stream",
          "name": "stdout",
          "text": [
            "Epoch 5\n"
          ]
        },
        {
          "output_type": "stream",
          "name": "stderr",
          "text": [
            "1it [00:00,  5.95it/s]"
          ]
        },
        {
          "output_type": "stream",
          "name": "stdout",
          "text": [
            "loss: 0.249113  [    0/ 1000]\n"
          ]
        },
        {
          "output_type": "stream",
          "name": "stderr",
          "text": [
            "102it [00:16,  6.49it/s]"
          ]
        },
        {
          "output_type": "stream",
          "name": "stdout",
          "text": [
            "loss: 0.857827  [  200/ 1000]\n"
          ]
        },
        {
          "output_type": "stream",
          "name": "stderr",
          "text": [
            "202it [00:31,  6.25it/s]"
          ]
        },
        {
          "output_type": "stream",
          "name": "stdout",
          "text": [
            "loss: 0.046103  [  400/ 1000]\n"
          ]
        },
        {
          "output_type": "stream",
          "name": "stderr",
          "text": [
            "302it [00:47,  6.25it/s]"
          ]
        },
        {
          "output_type": "stream",
          "name": "stdout",
          "text": [
            "loss: 0.254554  [  600/ 1000]\n"
          ]
        },
        {
          "output_type": "stream",
          "name": "stderr",
          "text": [
            "402it [01:03,  6.16it/s]"
          ]
        },
        {
          "output_type": "stream",
          "name": "stdout",
          "text": [
            "loss: 0.669407  [  800/ 1000]\n"
          ]
        },
        {
          "output_type": "stream",
          "name": "stderr",
          "text": [
            "500it [01:18,  6.35it/s]\n"
          ]
        },
        {
          "output_type": "stream",
          "name": "stdout",
          "text": [
            "Epoch 6\n"
          ]
        },
        {
          "output_type": "stream",
          "name": "stderr",
          "text": [
            "1it [00:00,  5.91it/s]"
          ]
        },
        {
          "output_type": "stream",
          "name": "stdout",
          "text": [
            "loss: 0.252998  [    0/ 1000]\n"
          ]
        },
        {
          "output_type": "stream",
          "name": "stderr",
          "text": [
            "102it [00:16,  6.50it/s]"
          ]
        },
        {
          "output_type": "stream",
          "name": "stdout",
          "text": [
            "loss: 0.868881  [  200/ 1000]\n"
          ]
        },
        {
          "output_type": "stream",
          "name": "stderr",
          "text": [
            "202it [00:31,  6.20it/s]"
          ]
        },
        {
          "output_type": "stream",
          "name": "stdout",
          "text": [
            "loss: 0.025692  [  400/ 1000]\n"
          ]
        },
        {
          "output_type": "stream",
          "name": "stderr",
          "text": [
            "302it [00:47,  6.21it/s]"
          ]
        },
        {
          "output_type": "stream",
          "name": "stdout",
          "text": [
            "loss: 0.197117  [  600/ 1000]\n"
          ]
        },
        {
          "output_type": "stream",
          "name": "stderr",
          "text": [
            "402it [01:03,  6.18it/s]"
          ]
        },
        {
          "output_type": "stream",
          "name": "stdout",
          "text": [
            "loss: 0.643350  [  800/ 1000]\n"
          ]
        },
        {
          "output_type": "stream",
          "name": "stderr",
          "text": [
            "500it [01:18,  6.35it/s]\n"
          ]
        },
        {
          "output_type": "stream",
          "name": "stdout",
          "text": [
            "Epoch 7\n"
          ]
        },
        {
          "output_type": "stream",
          "name": "stderr",
          "text": [
            "1it [00:00,  5.75it/s]"
          ]
        },
        {
          "output_type": "stream",
          "name": "stdout",
          "text": [
            "loss: 0.063100  [    0/ 1000]\n"
          ]
        },
        {
          "output_type": "stream",
          "name": "stderr",
          "text": [
            "102it [00:16,  6.48it/s]"
          ]
        },
        {
          "output_type": "stream",
          "name": "stdout",
          "text": [
            "loss: 0.839746  [  200/ 1000]\n"
          ]
        },
        {
          "output_type": "stream",
          "name": "stderr",
          "text": [
            "202it [00:31,  6.26it/s]"
          ]
        },
        {
          "output_type": "stream",
          "name": "stdout",
          "text": [
            "loss: 0.024217  [  400/ 1000]\n"
          ]
        },
        {
          "output_type": "stream",
          "name": "stderr",
          "text": [
            "302it [00:47,  6.22it/s]"
          ]
        },
        {
          "output_type": "stream",
          "name": "stdout",
          "text": [
            "loss: 0.113117  [  600/ 1000]\n"
          ]
        },
        {
          "output_type": "stream",
          "name": "stderr",
          "text": [
            "402it [01:03,  6.16it/s]"
          ]
        },
        {
          "output_type": "stream",
          "name": "stdout",
          "text": [
            "loss: 0.680787  [  800/ 1000]\n"
          ]
        },
        {
          "output_type": "stream",
          "name": "stderr",
          "text": [
            "500it [01:18,  6.34it/s]\n"
          ]
        },
        {
          "output_type": "stream",
          "name": "stdout",
          "text": [
            "Epoch 8\n"
          ]
        },
        {
          "output_type": "stream",
          "name": "stderr",
          "text": [
            "1it [00:00,  5.78it/s]"
          ]
        },
        {
          "output_type": "stream",
          "name": "stdout",
          "text": [
            "loss: 0.037902  [    0/ 1000]\n"
          ]
        },
        {
          "output_type": "stream",
          "name": "stderr",
          "text": [
            "102it [00:16,  6.43it/s]"
          ]
        },
        {
          "output_type": "stream",
          "name": "stdout",
          "text": [
            "loss: 0.680877  [  200/ 1000]\n"
          ]
        },
        {
          "output_type": "stream",
          "name": "stderr",
          "text": [
            "202it [00:32,  6.25it/s]"
          ]
        },
        {
          "output_type": "stream",
          "name": "stdout",
          "text": [
            "loss: 0.021868  [  400/ 1000]\n"
          ]
        },
        {
          "output_type": "stream",
          "name": "stderr",
          "text": [
            "302it [00:47,  6.22it/s]"
          ]
        },
        {
          "output_type": "stream",
          "name": "stdout",
          "text": [
            "loss: 0.240722  [  600/ 1000]\n"
          ]
        },
        {
          "output_type": "stream",
          "name": "stderr",
          "text": [
            "402it [01:03,  6.19it/s]"
          ]
        },
        {
          "output_type": "stream",
          "name": "stdout",
          "text": [
            "loss: 0.669535  [  800/ 1000]\n"
          ]
        },
        {
          "output_type": "stream",
          "name": "stderr",
          "text": [
            "500it [01:19,  6.33it/s]\n"
          ]
        },
        {
          "output_type": "stream",
          "name": "stdout",
          "text": [
            "Epoch 9\n"
          ]
        },
        {
          "output_type": "stream",
          "name": "stderr",
          "text": [
            "1it [00:00,  5.87it/s]"
          ]
        },
        {
          "output_type": "stream",
          "name": "stdout",
          "text": [
            "loss: 0.036379  [    0/ 1000]\n"
          ]
        },
        {
          "output_type": "stream",
          "name": "stderr",
          "text": [
            "102it [00:16,  6.49it/s]"
          ]
        },
        {
          "output_type": "stream",
          "name": "stdout",
          "text": [
            "loss: 0.499643  [  200/ 1000]\n"
          ]
        },
        {
          "output_type": "stream",
          "name": "stderr",
          "text": [
            "202it [00:31,  6.24it/s]"
          ]
        },
        {
          "output_type": "stream",
          "name": "stdout",
          "text": [
            "loss: 0.031253  [  400/ 1000]\n"
          ]
        },
        {
          "output_type": "stream",
          "name": "stderr",
          "text": [
            "302it [00:47,  6.21it/s]"
          ]
        },
        {
          "output_type": "stream",
          "name": "stdout",
          "text": [
            "loss: 0.220450  [  600/ 1000]\n"
          ]
        },
        {
          "output_type": "stream",
          "name": "stderr",
          "text": [
            "402it [01:03,  6.17it/s]"
          ]
        },
        {
          "output_type": "stream",
          "name": "stdout",
          "text": [
            "loss: 0.749545  [  800/ 1000]\n"
          ]
        },
        {
          "output_type": "stream",
          "name": "stderr",
          "text": [
            "500it [01:18,  6.35it/s]\n"
          ]
        },
        {
          "output_type": "stream",
          "name": "stdout",
          "text": [
            "Epoch 10\n"
          ]
        },
        {
          "output_type": "stream",
          "name": "stderr",
          "text": [
            "1it [00:00,  5.94it/s]"
          ]
        },
        {
          "output_type": "stream",
          "name": "stdout",
          "text": [
            "loss: 0.022570  [    0/ 1000]\n"
          ]
        },
        {
          "output_type": "stream",
          "name": "stderr",
          "text": [
            "102it [00:16,  6.48it/s]"
          ]
        },
        {
          "output_type": "stream",
          "name": "stdout",
          "text": [
            "loss: 0.693457  [  200/ 1000]\n"
          ]
        },
        {
          "output_type": "stream",
          "name": "stderr",
          "text": [
            "202it [00:31,  6.23it/s]"
          ]
        },
        {
          "output_type": "stream",
          "name": "stdout",
          "text": [
            "loss: 0.019034  [  400/ 1000]\n"
          ]
        },
        {
          "output_type": "stream",
          "name": "stderr",
          "text": [
            "302it [00:47,  6.24it/s]"
          ]
        },
        {
          "output_type": "stream",
          "name": "stdout",
          "text": [
            "loss: 0.214845  [  600/ 1000]\n"
          ]
        },
        {
          "output_type": "stream",
          "name": "stderr",
          "text": [
            "402it [01:03,  6.19it/s]"
          ]
        },
        {
          "output_type": "stream",
          "name": "stdout",
          "text": [
            "loss: 0.620500  [  800/ 1000]\n"
          ]
        },
        {
          "output_type": "stream",
          "name": "stderr",
          "text": [
            "500it [01:18,  6.35it/s]\n"
          ]
        },
        {
          "output_type": "stream",
          "name": "stdout",
          "text": [
            "Epoch 11\n"
          ]
        },
        {
          "output_type": "stream",
          "name": "stderr",
          "text": [
            "1it [00:00,  5.86it/s]"
          ]
        },
        {
          "output_type": "stream",
          "name": "stdout",
          "text": [
            "loss: 0.025931  [    0/ 1000]\n"
          ]
        },
        {
          "output_type": "stream",
          "name": "stderr",
          "text": [
            "102it [00:16,  6.49it/s]"
          ]
        },
        {
          "output_type": "stream",
          "name": "stdout",
          "text": [
            "loss: 1.373228  [  200/ 1000]\n"
          ]
        },
        {
          "output_type": "stream",
          "name": "stderr",
          "text": [
            "202it [00:31,  6.21it/s]"
          ]
        },
        {
          "output_type": "stream",
          "name": "stdout",
          "text": [
            "loss: 0.012934  [  400/ 1000]\n"
          ]
        },
        {
          "output_type": "stream",
          "name": "stderr",
          "text": [
            "302it [00:47,  6.25it/s]"
          ]
        },
        {
          "output_type": "stream",
          "name": "stdout",
          "text": [
            "loss: 0.252184  [  600/ 1000]\n"
          ]
        },
        {
          "output_type": "stream",
          "name": "stderr",
          "text": [
            "402it [01:03,  6.19it/s]"
          ]
        },
        {
          "output_type": "stream",
          "name": "stdout",
          "text": [
            "loss: 0.740830  [  800/ 1000]\n"
          ]
        },
        {
          "output_type": "stream",
          "name": "stderr",
          "text": [
            "500it [01:18,  6.36it/s]\n"
          ]
        },
        {
          "output_type": "stream",
          "name": "stdout",
          "text": [
            "Epoch 12\n"
          ]
        },
        {
          "output_type": "stream",
          "name": "stderr",
          "text": [
            "1it [00:00,  5.98it/s]"
          ]
        },
        {
          "output_type": "stream",
          "name": "stdout",
          "text": [
            "loss: 0.016334  [    0/ 1000]\n"
          ]
        },
        {
          "output_type": "stream",
          "name": "stderr",
          "text": [
            "102it [00:16,  6.49it/s]"
          ]
        },
        {
          "output_type": "stream",
          "name": "stdout",
          "text": [
            "loss: 0.754473  [  200/ 1000]\n"
          ]
        },
        {
          "output_type": "stream",
          "name": "stderr",
          "text": [
            "202it [00:31,  6.26it/s]"
          ]
        },
        {
          "output_type": "stream",
          "name": "stdout",
          "text": [
            "loss: 0.009969  [  400/ 1000]\n"
          ]
        },
        {
          "output_type": "stream",
          "name": "stderr",
          "text": [
            "302it [00:47,  6.17it/s]"
          ]
        },
        {
          "output_type": "stream",
          "name": "stdout",
          "text": [
            "loss: 0.124425  [  600/ 1000]\n"
          ]
        },
        {
          "output_type": "stream",
          "name": "stderr",
          "text": [
            "402it [01:03,  6.15it/s]"
          ]
        },
        {
          "output_type": "stream",
          "name": "stdout",
          "text": [
            "loss: 0.570213  [  800/ 1000]\n"
          ]
        },
        {
          "output_type": "stream",
          "name": "stderr",
          "text": [
            "500it [01:18,  6.35it/s]\n"
          ]
        },
        {
          "output_type": "stream",
          "name": "stdout",
          "text": [
            "Epoch 13\n"
          ]
        },
        {
          "output_type": "stream",
          "name": "stderr",
          "text": [
            "1it [00:00,  5.77it/s]"
          ]
        },
        {
          "output_type": "stream",
          "name": "stdout",
          "text": [
            "loss: 0.024195  [    0/ 1000]\n"
          ]
        },
        {
          "output_type": "stream",
          "name": "stderr",
          "text": [
            "102it [00:16,  6.47it/s]"
          ]
        },
        {
          "output_type": "stream",
          "name": "stdout",
          "text": [
            "loss: 0.784856  [  200/ 1000]\n"
          ]
        },
        {
          "output_type": "stream",
          "name": "stderr",
          "text": [
            "202it [00:31,  6.25it/s]"
          ]
        },
        {
          "output_type": "stream",
          "name": "stdout",
          "text": [
            "loss: 0.023980  [  400/ 1000]\n"
          ]
        },
        {
          "output_type": "stream",
          "name": "stderr",
          "text": [
            "302it [00:47,  6.23it/s]"
          ]
        },
        {
          "output_type": "stream",
          "name": "stdout",
          "text": [
            "loss: 0.066158  [  600/ 1000]\n"
          ]
        },
        {
          "output_type": "stream",
          "name": "stderr",
          "text": [
            "402it [01:03,  6.19it/s]"
          ]
        },
        {
          "output_type": "stream",
          "name": "stdout",
          "text": [
            "loss: 0.483878  [  800/ 1000]\n"
          ]
        },
        {
          "output_type": "stream",
          "name": "stderr",
          "text": [
            "500it [01:18,  6.35it/s]\n"
          ]
        },
        {
          "output_type": "stream",
          "name": "stdout",
          "text": [
            "Epoch 14\n"
          ]
        },
        {
          "output_type": "stream",
          "name": "stderr",
          "text": [
            "1it [00:00,  5.90it/s]"
          ]
        },
        {
          "output_type": "stream",
          "name": "stdout",
          "text": [
            "loss: 0.016157  [    0/ 1000]\n"
          ]
        },
        {
          "output_type": "stream",
          "name": "stderr",
          "text": [
            "102it [00:16,  6.48it/s]"
          ]
        },
        {
          "output_type": "stream",
          "name": "stdout",
          "text": [
            "loss: 0.652581  [  200/ 1000]\n"
          ]
        },
        {
          "output_type": "stream",
          "name": "stderr",
          "text": [
            "202it [00:31,  6.22it/s]"
          ]
        },
        {
          "output_type": "stream",
          "name": "stdout",
          "text": [
            "loss: 0.012105  [  400/ 1000]\n"
          ]
        },
        {
          "output_type": "stream",
          "name": "stderr",
          "text": [
            "302it [00:47,  6.25it/s]"
          ]
        },
        {
          "output_type": "stream",
          "name": "stdout",
          "text": [
            "loss: 0.074977  [  600/ 1000]\n"
          ]
        },
        {
          "output_type": "stream",
          "name": "stderr",
          "text": [
            "402it [01:03,  6.18it/s]"
          ]
        },
        {
          "output_type": "stream",
          "name": "stdout",
          "text": [
            "loss: 0.617419  [  800/ 1000]\n"
          ]
        },
        {
          "output_type": "stream",
          "name": "stderr",
          "text": [
            "500it [01:18,  6.35it/s]\n"
          ]
        }
      ],
      "source": [
        "train_loop(model, train_dataloader, epochs=15, loss_fn=nn.CrossEntropyLoss(), optimizer=optimizer)"
      ],
      "metadata": {
        "pycharm": {
          "name": "#%%\n",
          "is_executing": true
        },
        "id": "s5u2b7_yIFGn",
        "outputId": "1676702e-0cc9-4710-c5b6-1ad9322f217f",
        "colab": {
          "base_uri": "https://localhost:8080/"
        }
      }
    },
    {
      "cell_type": "code",
      "source": [
        "torch.save(model.state_dict(), 'newsArticleProfiling_final.model')"
      ],
      "metadata": {
        "id": "5yotwnAqdOkH"
      },
      "execution_count": 156,
      "outputs": []
    },
    {
      "cell_type": "code",
      "source": [
        "test_loop(model, test_dataloader, loss_fn=nn.CrossEntropyLoss())"
      ],
      "metadata": {
        "colab": {
          "base_uri": "https://localhost:8080/"
        },
        "id": "HF03IxXrdMv2",
        "outputId": "4a00f60a-4e1e-4efe-e982-365387860fea"
      },
      "execution_count": 77,
      "outputs": [
        {
          "output_type": "stream",
          "name": "stdout",
          "text": [
            "Test Error: \n",
            " Accuracy: 64.1%, Avg loss: 1.037369 \n",
            "\n"
          ]
        }
      ]
    },
    {
      "cell_type": "code",
      "source": [
        "confusion_matrix_obj = confusion_matrix(model, DataLoader(test_dataset, batch_size=1), label_revmapping)\n",
        "sn.heatmap(confusion_matrix_obj, annot=True)\n",
        "plt.show()"
      ],
      "metadata": {
        "colab": {
          "base_uri": "https://localhost:8080/",
          "height": 356
        },
        "id": "0E_dtjz85uEF",
        "outputId": "75484ccd-d2f4-4004-cf04-881f876195d3"
      },
      "execution_count": 142,
      "outputs": [
        {
          "output_type": "display_data",
          "data": {
            "text/plain": [
              "<Figure size 432x288 with 2 Axes>"
            ],
            "image/png": "[encoded data removed]"
          },
          "metadata": {
            "needs_background": "light"
          }
        }
      ]
    },
    {
      "cell_type": "code",
      "source": [
        "tp, tn, fp, fn = calculate_metrics(confusion_matrix_obj)\n",
        "\n",
        "print(f'Accuracy = {(tp + tn) / (tp + tn + fp + fn)}')\n",
        "\n",
        "precision = tp / (tp + fp)\n",
        "print(f'Precision = {precision}')\n",
        "\n",
        "recall = tp / (tp + fn)\n",
        "print(f'Recall = {recall}')\n",
        "\n",
        "print(f'F1 = {2 * precision * recall / (precision + recall)}')"
      ],
      "metadata": {
        "colab": {
          "base_uri": "https://localhost:8080/"
        },
        "id": "6qQot_ciHgj6",
        "outputId": "d985c862-c17b-4aa5-d795-9a0f49752f03"
      },
      "execution_count": 146,
      "outputs": [
        {
          "output_type": "stream",
          "name": "stdout",
          "text": [
            "Accuracy = 0.9161676646706587\n",
            "Precision = 0.6227544910179641\n",
            "Recall = 0.6227544910179641\n",
            "F1 = 0.6227544910179641\n"
          ]
        }
      ]
    },
    {
      "cell_type": "markdown",
      "source": [
        "# Reduced labels (left, centre, right)"
      ],
      "metadata": {
        "id": "0otxRAIRNbuT"
      }
    },
    {
      "cell_type": "code",
      "source": [
        "full_data_simple_labels = pd.read_csv(os.path.join('data', 'full_data.csv'))\n",
        "\n",
        "simplify_label_map = {\n",
        "    'centre-left': 'centre',\n",
        "    'centre-right': 'centre',\n",
        "    'centrism': 'centre',\n",
        "    'communism': 'left',\n",
        "    'conservatism': 'right',\n",
        "    'left-wing': 'left',\n",
        "    'liberalism': 'left',\n",
        "    'right-wing': 'right',\n",
        "    'social democracy': 'right'\n",
        "}\n",
        "full_data_simple_labels['idealogyLabel'] = full_data_simple_labels['idealogyLabel'].map(lambda idealogy: simplify_label_map[idealogy])\n",
        "print(full_data_simple_labels.head())\n",
        "\n",
        "train_data_simple_labels, test_data_simple_labels = train_test_split(full_data_simple_labels, random_state=RANDOM_STATE)\n",
        "\n",
        "label_mapping_simple_labels = {item: index for index, item in enumerate(full_data_simple_labels['idealogyLabel'].value_counts().keys())}\n",
        "label_revmapping_simple_labels = {index: item for index, item in enumerate(full_data_simple_labels['idealogyLabel'].value_counts().keys())}\n",
        "\n",
        "train_dataset_simple_labels = ArticleDataset(train_data_simple_labels, label_mapping_simple_labels)\n",
        "train_dataloader_simple_labels = DataLoader(train_dataset_simple_labels, batch_size=2)\n",
        "\n",
        "test_dataset_simple_labels = ArticleDataset(test_data_simple_labels, label_mapping_simple_labels)\n",
        "test_dataloader_simple_labels = DataLoader(test_dataset_simple_labels, batch_size=2)\n",
        "\n",
        "model_simple_labels = ArticleProfilerModel(amount_of_categories=len(label_mapping_simple_labels))\n",
        "\n",
        "learning_rate = 1e-5\n",
        "optimizer = Adam(model_simple_labels.parameters(), lr=learning_rate)"
      ],
      "metadata": {
        "colab": {
          "base_uri": "https://localhost:8080/"
        },
        "id": "5eVbIgqhNrtw",
        "outputId": "8ba01f0e-fff1-4513-929d-982fa2c1bd0d"
      },
      "execution_count": 151,
      "outputs": [
        {
          "output_type": "stream",
          "name": "stdout",
          "text": [
            "  newspaperLabel      articleText idealogyLabel\n",
            "0      Habertürk  haberturk/1.txt         right\n",
            "1      Habertürk  haberturk/2.txt         right\n",
            "2      Habertürk  haberturk/3.txt         right\n",
            "3      Habertürk  haberturk/4.txt         right\n",
            "4      Habertürk  haberturk/5.txt         right\n"
          ]
        },
        {
          "output_type": "stream",
          "name": "stderr",
          "text": [
            "Some weights of the model checkpoint at bert-base-multilingual-cased were not used when initializing BertModel: ['cls.predictions.transform.dense.weight', 'cls.predictions.transform.LayerNorm.weight', 'cls.predictions.decoder.weight', 'cls.predictions.transform.dense.bias', 'cls.seq_relationship.weight', 'cls.predictions.transform.LayerNorm.bias', 'cls.seq_relationship.bias', 'cls.predictions.bias']\n",
            "- This IS expected if you are initializing BertModel from the checkpoint of a model trained on another task or with another architecture (e.g. initializing a BertForSequenceClassification model from a BertForPreTraining model).\n",
            "- This IS NOT expected if you are initializing BertModel from the checkpoint of a model that you expect to be exactly identical (initializing a BertForSequenceClassification model from a BertForSequenceClassification model).\n"
          ]
        }
      ]
    },
    {
      "cell_type": "code",
      "source": [
        "train_loop(model_simple_labels, train_dataloader_simple_labels, epochs=15, loss_fn=nn.CrossEntropyLoss(), optimizer=optimizer)"
      ],
      "metadata": {
        "colab": {
          "base_uri": "https://localhost:8080/"
        },
        "id": "ss08Rjj9N_wl",
        "outputId": "b62b5c35-445d-45dc-9147-15f89b1bc82e"
      },
      "execution_count": 152,
      "outputs": [
        {
          "output_type": "stream",
          "name": "stdout",
          "text": [
            "Epoch 0\n"
          ]
        },
        {
          "output_type": "stream",
          "name": "stderr",
          "text": [
            "1it [00:00,  5.73it/s]"
          ]
        },
        {
          "output_type": "stream",
          "name": "stdout",
          "text": [
            "loss: 0.983206  [    0/ 1000]\n"
          ]
        },
        {
          "output_type": "stream",
          "name": "stderr",
          "text": [
            "102it [00:16,  6.51it/s]"
          ]
        },
        {
          "output_type": "stream",
          "name": "stdout",
          "text": [
            "loss: 0.705555  [  200/ 1000]\n"
          ]
        },
        {
          "output_type": "stream",
          "name": "stderr",
          "text": [
            "202it [00:31,  6.23it/s]"
          ]
        },
        {
          "output_type": "stream",
          "name": "stdout",
          "text": [
            "loss: 0.474154  [  400/ 1000]\n"
          ]
        },
        {
          "output_type": "stream",
          "name": "stderr",
          "text": [
            "302it [00:47,  6.26it/s]"
          ]
        },
        {
          "output_type": "stream",
          "name": "stdout",
          "text": [
            "loss: 0.145959  [  600/ 1000]\n"
          ]
        },
        {
          "output_type": "stream",
          "name": "stderr",
          "text": [
            "402it [01:03,  6.18it/s]"
          ]
        },
        {
          "output_type": "stream",
          "name": "stdout",
          "text": [
            "loss: 1.021260  [  800/ 1000]\n"
          ]
        },
        {
          "output_type": "stream",
          "name": "stderr",
          "text": [
            "500it [01:18,  6.36it/s]\n"
          ]
        },
        {
          "output_type": "stream",
          "name": "stdout",
          "text": [
            "Epoch 1\n"
          ]
        },
        {
          "output_type": "stream",
          "name": "stderr",
          "text": [
            "1it [00:00,  5.93it/s]"
          ]
        },
        {
          "output_type": "stream",
          "name": "stdout",
          "text": [
            "loss: 1.283157  [    0/ 1000]\n"
          ]
        },
        {
          "output_type": "stream",
          "name": "stderr",
          "text": [
            "102it [00:16,  6.46it/s]"
          ]
        },
        {
          "output_type": "stream",
          "name": "stdout",
          "text": [
            "loss: 0.051659  [  200/ 1000]\n"
          ]
        },
        {
          "output_type": "stream",
          "name": "stderr",
          "text": [
            "202it [00:31,  6.24it/s]"
          ]
        },
        {
          "output_type": "stream",
          "name": "stdout",
          "text": [
            "loss: 0.368812  [  400/ 1000]\n"
          ]
        },
        {
          "output_type": "stream",
          "name": "stderr",
          "text": [
            "302it [00:47,  6.24it/s]"
          ]
        },
        {
          "output_type": "stream",
          "name": "stdout",
          "text": [
            "loss: 0.018525  [  600/ 1000]\n"
          ]
        },
        {
          "output_type": "stream",
          "name": "stderr",
          "text": [
            "402it [01:03,  6.19it/s]"
          ]
        },
        {
          "output_type": "stream",
          "name": "stdout",
          "text": [
            "loss: 0.737489  [  800/ 1000]\n"
          ]
        },
        {
          "output_type": "stream",
          "name": "stderr",
          "text": [
            "500it [01:18,  6.36it/s]\n"
          ]
        },
        {
          "output_type": "stream",
          "name": "stdout",
          "text": [
            "Epoch 2\n"
          ]
        },
        {
          "output_type": "stream",
          "name": "stderr",
          "text": [
            "1it [00:00,  5.94it/s]"
          ]
        },
        {
          "output_type": "stream",
          "name": "stdout",
          "text": [
            "loss: 2.059179  [    0/ 1000]\n"
          ]
        },
        {
          "output_type": "stream",
          "name": "stderr",
          "text": [
            "102it [00:16,  6.48it/s]"
          ]
        },
        {
          "output_type": "stream",
          "name": "stdout",
          "text": [
            "loss: 0.027025  [  200/ 1000]\n"
          ]
        },
        {
          "output_type": "stream",
          "name": "stderr",
          "text": [
            "202it [00:31,  6.21it/s]"
          ]
        },
        {
          "output_type": "stream",
          "name": "stdout",
          "text": [
            "loss: 0.161471  [  400/ 1000]\n"
          ]
        },
        {
          "output_type": "stream",
          "name": "stderr",
          "text": [
            "302it [00:47,  6.25it/s]"
          ]
        },
        {
          "output_type": "stream",
          "name": "stdout",
          "text": [
            "loss: 0.020016  [  600/ 1000]\n"
          ]
        },
        {
          "output_type": "stream",
          "name": "stderr",
          "text": [
            "402it [01:03,  6.18it/s]"
          ]
        },
        {
          "output_type": "stream",
          "name": "stdout",
          "text": [
            "loss: 0.455827  [  800/ 1000]\n"
          ]
        },
        {
          "output_type": "stream",
          "name": "stderr",
          "text": [
            "500it [01:18,  6.36it/s]\n"
          ]
        },
        {
          "output_type": "stream",
          "name": "stdout",
          "text": [
            "Epoch 3\n"
          ]
        },
        {
          "output_type": "stream",
          "name": "stderr",
          "text": [
            "1it [00:00,  5.85it/s]"
          ]
        },
        {
          "output_type": "stream",
          "name": "stdout",
          "text": [
            "loss: 0.649301  [    0/ 1000]\n"
          ]
        },
        {
          "output_type": "stream",
          "name": "stderr",
          "text": [
            "102it [00:16,  6.47it/s]"
          ]
        },
        {
          "output_type": "stream",
          "name": "stdout",
          "text": [
            "loss: 0.008140  [  200/ 1000]\n"
          ]
        },
        {
          "output_type": "stream",
          "name": "stderr",
          "text": [
            "202it [00:31,  6.14it/s]"
          ]
        },
        {
          "output_type": "stream",
          "name": "stdout",
          "text": [
            "loss: 0.048886  [  400/ 1000]\n"
          ]
        },
        {
          "output_type": "stream",
          "name": "stderr",
          "text": [
            "302it [00:47,  6.25it/s]"
          ]
        },
        {
          "output_type": "stream",
          "name": "stdout",
          "text": [
            "loss: 0.022332  [  600/ 1000]\n"
          ]
        },
        {
          "output_type": "stream",
          "name": "stderr",
          "text": [
            "402it [01:03,  6.19it/s]"
          ]
        },
        {
          "output_type": "stream",
          "name": "stdout",
          "text": [
            "loss: 0.671594  [  800/ 1000]\n"
          ]
        },
        {
          "output_type": "stream",
          "name": "stderr",
          "text": [
            "500it [01:18,  6.36it/s]\n"
          ]
        },
        {
          "output_type": "stream",
          "name": "stdout",
          "text": [
            "Epoch 4\n"
          ]
        },
        {
          "output_type": "stream",
          "name": "stderr",
          "text": [
            "1it [00:00,  5.83it/s]"
          ]
        },
        {
          "output_type": "stream",
          "name": "stdout",
          "text": [
            "loss: 0.130573  [    0/ 1000]\n"
          ]
        },
        {
          "output_type": "stream",
          "name": "stderr",
          "text": [
            "102it [00:16,  6.49it/s]"
          ]
        },
        {
          "output_type": "stream",
          "name": "stdout",
          "text": [
            "loss: 0.004602  [  200/ 1000]\n"
          ]
        },
        {
          "output_type": "stream",
          "name": "stderr",
          "text": [
            "202it [00:31,  6.26it/s]"
          ]
        },
        {
          "output_type": "stream",
          "name": "stdout",
          "text": [
            "loss: 0.015634  [  400/ 1000]\n"
          ]
        },
        {
          "output_type": "stream",
          "name": "stderr",
          "text": [
            "302it [00:47,  6.25it/s]"
          ]
        },
        {
          "output_type": "stream",
          "name": "stdout",
          "text": [
            "loss: 0.005532  [  600/ 1000]\n"
          ]
        },
        {
          "output_type": "stream",
          "name": "stderr",
          "text": [
            "402it [01:03,  6.20it/s]"
          ]
        },
        {
          "output_type": "stream",
          "name": "stdout",
          "text": [
            "loss: 0.647709  [  800/ 1000]\n"
          ]
        },
        {
          "output_type": "stream",
          "name": "stderr",
          "text": [
            "500it [01:18,  6.36it/s]\n"
          ]
        },
        {
          "output_type": "stream",
          "name": "stdout",
          "text": [
            "Epoch 5\n"
          ]
        },
        {
          "output_type": "stream",
          "name": "stderr",
          "text": [
            "1it [00:00,  5.83it/s]"
          ]
        },
        {
          "output_type": "stream",
          "name": "stdout",
          "text": [
            "loss: 0.059011  [    0/ 1000]\n"
          ]
        },
        {
          "output_type": "stream",
          "name": "stderr",
          "text": [
            "102it [00:16,  6.48it/s]"
          ]
        },
        {
          "output_type": "stream",
          "name": "stdout",
          "text": [
            "loss: 0.006677  [  200/ 1000]\n"
          ]
        },
        {
          "output_type": "stream",
          "name": "stderr",
          "text": [
            "202it [00:31,  6.24it/s]"
          ]
        },
        {
          "output_type": "stream",
          "name": "stdout",
          "text": [
            "loss: 0.015405  [  400/ 1000]\n"
          ]
        },
        {
          "output_type": "stream",
          "name": "stderr",
          "text": [
            "302it [00:47,  6.26it/s]"
          ]
        },
        {
          "output_type": "stream",
          "name": "stdout",
          "text": [
            "loss: 0.008183  [  600/ 1000]\n"
          ]
        },
        {
          "output_type": "stream",
          "name": "stderr",
          "text": [
            "402it [01:03,  6.19it/s]"
          ]
        },
        {
          "output_type": "stream",
          "name": "stdout",
          "text": [
            "loss: 0.422429  [  800/ 1000]\n"
          ]
        },
        {
          "output_type": "stream",
          "name": "stderr",
          "text": [
            "500it [01:18,  6.36it/s]\n"
          ]
        },
        {
          "output_type": "stream",
          "name": "stdout",
          "text": [
            "Epoch 6\n"
          ]
        },
        {
          "output_type": "stream",
          "name": "stderr",
          "text": [
            "1it [00:00,  5.93it/s]"
          ]
        },
        {
          "output_type": "stream",
          "name": "stdout",
          "text": [
            "loss: 0.062740  [    0/ 1000]\n"
          ]
        },
        {
          "output_type": "stream",
          "name": "stderr",
          "text": [
            "102it [00:16,  6.50it/s]"
          ]
        },
        {
          "output_type": "stream",
          "name": "stdout",
          "text": [
            "loss: 0.003961  [  200/ 1000]\n"
          ]
        },
        {
          "output_type": "stream",
          "name": "stderr",
          "text": [
            "202it [00:31,  6.26it/s]"
          ]
        },
        {
          "output_type": "stream",
          "name": "stdout",
          "text": [
            "loss: 0.007182  [  400/ 1000]\n"
          ]
        },
        {
          "output_type": "stream",
          "name": "stderr",
          "text": [
            "302it [00:47,  6.24it/s]"
          ]
        },
        {
          "output_type": "stream",
          "name": "stdout",
          "text": [
            "loss: 0.003492  [  600/ 1000]\n"
          ]
        },
        {
          "output_type": "stream",
          "name": "stderr",
          "text": [
            "402it [01:03,  6.17it/s]"
          ]
        },
        {
          "output_type": "stream",
          "name": "stdout",
          "text": [
            "loss: 0.631673  [  800/ 1000]\n"
          ]
        },
        {
          "output_type": "stream",
          "name": "stderr",
          "text": [
            "500it [01:18,  6.36it/s]\n"
          ]
        },
        {
          "output_type": "stream",
          "name": "stdout",
          "text": [
            "Epoch 7\n"
          ]
        },
        {
          "output_type": "stream",
          "name": "stderr",
          "text": [
            "1it [00:00,  5.83it/s]"
          ]
        },
        {
          "output_type": "stream",
          "name": "stdout",
          "text": [
            "loss: 0.027797  [    0/ 1000]\n"
          ]
        },
        {
          "output_type": "stream",
          "name": "stderr",
          "text": [
            "102it [00:16,  6.48it/s]"
          ]
        },
        {
          "output_type": "stream",
          "name": "stdout",
          "text": [
            "loss: 0.002695  [  200/ 1000]\n"
          ]
        },
        {
          "output_type": "stream",
          "name": "stderr",
          "text": [
            "202it [00:31,  6.25it/s]"
          ]
        },
        {
          "output_type": "stream",
          "name": "stdout",
          "text": [
            "loss: 0.004625  [  400/ 1000]\n"
          ]
        },
        {
          "output_type": "stream",
          "name": "stderr",
          "text": [
            "302it [00:47,  6.25it/s]"
          ]
        },
        {
          "output_type": "stream",
          "name": "stdout",
          "text": [
            "loss: 0.002907  [  600/ 1000]\n"
          ]
        },
        {
          "output_type": "stream",
          "name": "stderr",
          "text": [
            "402it [01:03,  6.19it/s]"
          ]
        },
        {
          "output_type": "stream",
          "name": "stdout",
          "text": [
            "loss: 0.506657  [  800/ 1000]\n"
          ]
        },
        {
          "output_type": "stream",
          "name": "stderr",
          "text": [
            "500it [01:18,  6.36it/s]\n"
          ]
        },
        {
          "output_type": "stream",
          "name": "stdout",
          "text": [
            "Epoch 8\n"
          ]
        },
        {
          "output_type": "stream",
          "name": "stderr",
          "text": [
            "1it [00:00,  5.90it/s]"
          ]
        },
        {
          "output_type": "stream",
          "name": "stdout",
          "text": [
            "loss: 0.008970  [    0/ 1000]\n"
          ]
        },
        {
          "output_type": "stream",
          "name": "stderr",
          "text": [
            "102it [00:16,  6.48it/s]"
          ]
        },
        {
          "output_type": "stream",
          "name": "stdout",
          "text": [
            "loss: 0.001739  [  200/ 1000]\n"
          ]
        },
        {
          "output_type": "stream",
          "name": "stderr",
          "text": [
            "202it [00:31,  6.21it/s]"
          ]
        },
        {
          "output_type": "stream",
          "name": "stdout",
          "text": [
            "loss: 0.003414  [  400/ 1000]\n"
          ]
        },
        {
          "output_type": "stream",
          "name": "stderr",
          "text": [
            "302it [00:47,  6.25it/s]"
          ]
        },
        {
          "output_type": "stream",
          "name": "stdout",
          "text": [
            "loss: 0.002327  [  600/ 1000]\n"
          ]
        },
        {
          "output_type": "stream",
          "name": "stderr",
          "text": [
            "402it [01:03,  6.18it/s]"
          ]
        },
        {
          "output_type": "stream",
          "name": "stdout",
          "text": [
            "loss: 0.766928  [  800/ 1000]\n"
          ]
        },
        {
          "output_type": "stream",
          "name": "stderr",
          "text": [
            "500it [01:18,  6.36it/s]\n"
          ]
        },
        {
          "output_type": "stream",
          "name": "stdout",
          "text": [
            "Epoch 9\n"
          ]
        },
        {
          "output_type": "stream",
          "name": "stderr",
          "text": [
            "1it [00:00,  5.93it/s]"
          ]
        },
        {
          "output_type": "stream",
          "name": "stdout",
          "text": [
            "loss: 0.007552  [    0/ 1000]\n"
          ]
        },
        {
          "output_type": "stream",
          "name": "stderr",
          "text": [
            "102it [00:16,  6.47it/s]"
          ]
        },
        {
          "output_type": "stream",
          "name": "stdout",
          "text": [
            "loss: 0.003124  [  200/ 1000]\n"
          ]
        },
        {
          "output_type": "stream",
          "name": "stderr",
          "text": [
            "202it [00:31,  6.23it/s]"
          ]
        },
        {
          "output_type": "stream",
          "name": "stdout",
          "text": [
            "loss: 0.002619  [  400/ 1000]\n"
          ]
        },
        {
          "output_type": "stream",
          "name": "stderr",
          "text": [
            "302it [00:47,  6.21it/s]"
          ]
        },
        {
          "output_type": "stream",
          "name": "stdout",
          "text": [
            "loss: 0.002456  [  600/ 1000]\n"
          ]
        },
        {
          "output_type": "stream",
          "name": "stderr",
          "text": [
            "402it [01:03,  6.18it/s]"
          ]
        },
        {
          "output_type": "stream",
          "name": "stdout",
          "text": [
            "loss: 0.484104  [  800/ 1000]\n"
          ]
        },
        {
          "output_type": "stream",
          "name": "stderr",
          "text": [
            "500it [01:18,  6.36it/s]\n"
          ]
        },
        {
          "output_type": "stream",
          "name": "stdout",
          "text": [
            "Epoch 10\n"
          ]
        },
        {
          "output_type": "stream",
          "name": "stderr",
          "text": [
            "1it [00:00,  5.86it/s]"
          ]
        },
        {
          "output_type": "stream",
          "name": "stdout",
          "text": [
            "loss: 0.005934  [    0/ 1000]\n"
          ]
        },
        {
          "output_type": "stream",
          "name": "stderr",
          "text": [
            "102it [00:16,  6.47it/s]"
          ]
        },
        {
          "output_type": "stream",
          "name": "stdout",
          "text": [
            "loss: 0.002809  [  200/ 1000]\n"
          ]
        },
        {
          "output_type": "stream",
          "name": "stderr",
          "text": [
            "202it [00:31,  6.25it/s]"
          ]
        },
        {
          "output_type": "stream",
          "name": "stdout",
          "text": [
            "loss: 0.002760  [  400/ 1000]\n"
          ]
        },
        {
          "output_type": "stream",
          "name": "stderr",
          "text": [
            "302it [00:47,  6.27it/s]"
          ]
        },
        {
          "output_type": "stream",
          "name": "stdout",
          "text": [
            "loss: 0.002421  [  600/ 1000]\n"
          ]
        },
        {
          "output_type": "stream",
          "name": "stderr",
          "text": [
            "402it [01:03,  6.15it/s]"
          ]
        },
        {
          "output_type": "stream",
          "name": "stdout",
          "text": [
            "loss: 0.527674  [  800/ 1000]\n"
          ]
        },
        {
          "output_type": "stream",
          "name": "stderr",
          "text": [
            "500it [01:18,  6.36it/s]\n"
          ]
        },
        {
          "output_type": "stream",
          "name": "stdout",
          "text": [
            "Epoch 11\n"
          ]
        },
        {
          "output_type": "stream",
          "name": "stderr",
          "text": [
            "1it [00:00,  5.91it/s]"
          ]
        },
        {
          "output_type": "stream",
          "name": "stdout",
          "text": [
            "loss: 0.007895  [    0/ 1000]\n"
          ]
        },
        {
          "output_type": "stream",
          "name": "stderr",
          "text": [
            "102it [00:16,  6.48it/s]"
          ]
        },
        {
          "output_type": "stream",
          "name": "stdout",
          "text": [
            "loss: 0.001757  [  200/ 1000]\n"
          ]
        },
        {
          "output_type": "stream",
          "name": "stderr",
          "text": [
            "202it [00:31,  6.22it/s]"
          ]
        },
        {
          "output_type": "stream",
          "name": "stdout",
          "text": [
            "loss: 0.003884  [  400/ 1000]\n"
          ]
        },
        {
          "output_type": "stream",
          "name": "stderr",
          "text": [
            "302it [00:47,  6.19it/s]"
          ]
        },
        {
          "output_type": "stream",
          "name": "stdout",
          "text": [
            "loss: 0.002501  [  600/ 1000]\n"
          ]
        },
        {
          "output_type": "stream",
          "name": "stderr",
          "text": [
            "402it [01:03,  6.18it/s]"
          ]
        },
        {
          "output_type": "stream",
          "name": "stdout",
          "text": [
            "loss: 0.766282  [  800/ 1000]\n"
          ]
        },
        {
          "output_type": "stream",
          "name": "stderr",
          "text": [
            "500it [01:18,  6.36it/s]\n"
          ]
        },
        {
          "output_type": "stream",
          "name": "stdout",
          "text": [
            "Epoch 12\n"
          ]
        },
        {
          "output_type": "stream",
          "name": "stderr",
          "text": [
            "1it [00:00,  5.92it/s]"
          ]
        },
        {
          "output_type": "stream",
          "name": "stdout",
          "text": [
            "loss: 0.066399  [    0/ 1000]\n"
          ]
        },
        {
          "output_type": "stream",
          "name": "stderr",
          "text": [
            "102it [00:16,  6.48it/s]"
          ]
        },
        {
          "output_type": "stream",
          "name": "stdout",
          "text": [
            "loss: 0.002692  [  200/ 1000]\n"
          ]
        },
        {
          "output_type": "stream",
          "name": "stderr",
          "text": [
            "202it [00:31,  6.21it/s]"
          ]
        },
        {
          "output_type": "stream",
          "name": "stdout",
          "text": [
            "loss: 0.003860  [  400/ 1000]\n"
          ]
        },
        {
          "output_type": "stream",
          "name": "stderr",
          "text": [
            "302it [00:47,  6.24it/s]"
          ]
        },
        {
          "output_type": "stream",
          "name": "stdout",
          "text": [
            "loss: 0.018144  [  600/ 1000]\n"
          ]
        },
        {
          "output_type": "stream",
          "name": "stderr",
          "text": [
            "402it [01:03,  6.19it/s]"
          ]
        },
        {
          "output_type": "stream",
          "name": "stdout",
          "text": [
            "loss: 0.549065  [  800/ 1000]\n"
          ]
        },
        {
          "output_type": "stream",
          "name": "stderr",
          "text": [
            "500it [01:18,  6.36it/s]\n"
          ]
        },
        {
          "output_type": "stream",
          "name": "stdout",
          "text": [
            "Epoch 13\n"
          ]
        },
        {
          "output_type": "stream",
          "name": "stderr",
          "text": [
            "1it [00:00,  5.89it/s]"
          ]
        },
        {
          "output_type": "stream",
          "name": "stdout",
          "text": [
            "loss: 0.004819  [    0/ 1000]\n"
          ]
        },
        {
          "output_type": "stream",
          "name": "stderr",
          "text": [
            "102it [00:16,  6.47it/s]"
          ]
        },
        {
          "output_type": "stream",
          "name": "stdout",
          "text": [
            "loss: 0.002417  [  200/ 1000]\n"
          ]
        },
        {
          "output_type": "stream",
          "name": "stderr",
          "text": [
            "202it [00:31,  6.23it/s]"
          ]
        },
        {
          "output_type": "stream",
          "name": "stdout",
          "text": [
            "loss: 0.001935  [  400/ 1000]\n"
          ]
        },
        {
          "output_type": "stream",
          "name": "stderr",
          "text": [
            "302it [00:47,  6.26it/s]"
          ]
        },
        {
          "output_type": "stream",
          "name": "stdout",
          "text": [
            "loss: 0.001415  [  600/ 1000]\n"
          ]
        },
        {
          "output_type": "stream",
          "name": "stderr",
          "text": [
            "402it [01:03,  6.19it/s]"
          ]
        },
        {
          "output_type": "stream",
          "name": "stdout",
          "text": [
            "loss: 0.764240  [  800/ 1000]\n"
          ]
        },
        {
          "output_type": "stream",
          "name": "stderr",
          "text": [
            "500it [01:18,  6.36it/s]\n"
          ]
        },
        {
          "output_type": "stream",
          "name": "stdout",
          "text": [
            "Epoch 14\n"
          ]
        },
        {
          "output_type": "stream",
          "name": "stderr",
          "text": [
            "1it [00:00,  5.87it/s]"
          ]
        },
        {
          "output_type": "stream",
          "name": "stdout",
          "text": [
            "loss: 0.009748  [    0/ 1000]\n"
          ]
        },
        {
          "output_type": "stream",
          "name": "stderr",
          "text": [
            "102it [00:16,  6.49it/s]"
          ]
        },
        {
          "output_type": "stream",
          "name": "stdout",
          "text": [
            "loss: 0.001696  [  200/ 1000]\n"
          ]
        },
        {
          "output_type": "stream",
          "name": "stderr",
          "text": [
            "202it [00:31,  6.25it/s]"
          ]
        },
        {
          "output_type": "stream",
          "name": "stdout",
          "text": [
            "loss: 0.003143  [  400/ 1000]\n"
          ]
        },
        {
          "output_type": "stream",
          "name": "stderr",
          "text": [
            "302it [00:47,  6.26it/s]"
          ]
        },
        {
          "output_type": "stream",
          "name": "stdout",
          "text": [
            "loss: 0.001471  [  600/ 1000]\n"
          ]
        },
        {
          "output_type": "stream",
          "name": "stderr",
          "text": [
            "402it [01:03,  6.20it/s]"
          ]
        },
        {
          "output_type": "stream",
          "name": "stdout",
          "text": [
            "loss: 0.411207  [  800/ 1000]\n"
          ]
        },
        {
          "output_type": "stream",
          "name": "stderr",
          "text": [
            "500it [01:18,  6.36it/s]\n"
          ]
        }
      ]
    },
    {
      "cell_type": "code",
      "source": [
        "test_loop(model_simple_labels, test_dataloader_simple_labels, loss_fn=nn.CrossEntropyLoss())"
      ],
      "metadata": {
        "colab": {
          "base_uri": "https://localhost:8080/"
        },
        "id": "icXEeQ5aPcQm",
        "outputId": "745fdcb3-5962-4e65-a58e-6aedd95409e7"
      },
      "execution_count": 153,
      "outputs": [
        {
          "output_type": "stream",
          "name": "stdout",
          "text": [
            "Test Error: \n",
            " Accuracy: 87.1%, Avg loss: 0.402819 \n",
            "\n"
          ]
        }
      ]
    },
    {
      "cell_type": "code",
      "source": [
        "confusion_matrix_simple_labels = confusion_matrix(model_simple_labels, DataLoader(test_dataset_simple_labels, batch_size=1), label_revmapping_simple_labels)\n",
        "sn.heatmap(confusion_matrix_simple_labels, annot=True)\n",
        "plt.show()"
      ],
      "metadata": {
        "colab": {
          "base_uri": "https://localhost:8080/",
          "height": 279
        },
        "id": "FN29Gv9zPfZ0",
        "outputId": "8bf1f7b3-a0a8-4eb2-b3bc-a16d42966736"
      },
      "execution_count": 154,
      "outputs": [
        {
          "output_type": "display_data",
          "data": {
            "text/plain": [
              "<Figure size 432x288 with 2 Axes>"
            ],
            "image/png": "[encoded data removed]"
          },
          "metadata": {
            "needs_background": "light"
          }
        }
      ]
    },
    {
      "cell_type": "code",
      "source": [
        "tp, tn, fp, fn = calculate_metrics(confusion_matrix_simple_labels)\n",
        "\n",
        "print(f'Accuracy = {(tp + tn) / (tp + tn + fp + fn)}')\n",
        "\n",
        "precision = tp / (tp + fp)\n",
        "print(f'Precision = {precision}')\n",
        "\n",
        "recall = tp / (tp + fn)\n",
        "print(f'Recall = {recall}')\n",
        "\n",
        "print(f'F1 = {2 * precision * recall / (precision + recall)}')"
      ],
      "metadata": {
        "colab": {
          "base_uri": "https://localhost:8080/"
        },
        "id": "REXtbHw4PhZF",
        "outputId": "d47f05ab-6f06-45e3-88f4-5b6dedbf2f59"
      },
      "execution_count": 155,
      "outputs": [
        {
          "output_type": "stream",
          "name": "stdout",
          "text": [
            "Accuracy = 0.9121756487025948\n",
            "Precision = 0.8682634730538922\n",
            "Recall = 0.8682634730538922\n",
            "F1 = 0.8682634730538922\n"
          ]
        }
      ]
    },
    {
      "cell_type": "code",
      "source": [
        "torch.save(model_simple_labels.state_dict(), 'newsArticleProfiling_final_simple_labels.model')"
      ],
      "metadata": {
        "id": "TPbZznLPf_vQ"
      },
      "execution_count": 157,
      "outputs": []
    }
  ],
  "metadata": {
    "kernelspec": {
      "name": "python3",
      "display_name": "Python 3"
    },
    "language_info": {
      "name": "python"
    },
    "colab": {
      "name": "model.ipynb",
      "provenance": [],
      "machine_shape": "hm",
      "collapsed_sections": []
    },
    "accelerator": "GPU",
    "gpuClass": "standard"
  },
  "nbformat": 4,
  "nbformat_minor": 0
}