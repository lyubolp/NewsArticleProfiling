{
 "cells": [
  {
   "cell_type": "code",
   "execution_count": 74,
   "outputs": [],
   "source": [
    "import numpy as np\n",
    "import os\n",
    "import pandas as pd\n",
    "import torch\n",
    "\n",
    "from torch import nn\n",
    "from torch.optim import Adam\n",
    "from torch.utils.data import DataLoader\n",
    "from transformers import AutoTokenizer, BertTokenizer, BertModel, BertConfig, DistilBertTokenizer, DistilBertModel, DistilBertConfig\n",
    "from sklearn.model_selection import train_test_split\n",
    "\n",
    "RANDOM_STATE = 42"
   ],
   "metadata": {
    "collapsed": false,
    "pycharm": {
     "name": "#%%\n"
    }
   }
  },
  {
   "cell_type": "code",
   "execution_count": 83,
   "outputs": [],
   "source": [
    "class ArticleDataset(torch.utils.data.Dataset):\n",
    "    def __init__(self, data, label_mapping):\n",
    "        self.__data = data\n",
    "        self.__label_mapping = label_mapping\n",
    "\n",
    "    def __len__(self):\n",
    "        return self.__data.shape[0]\n",
    "\n",
    "    def __getitem__(self, idx):\n",
    "        row = self.__data.iloc[idx]\n",
    "\n",
    "        target_label = row['idealogyLabel']\n",
    "        article_text_location = row['articleText']\n",
    "\n",
    "        with open(os.path.join('data', article_text_location)) as fp:\n",
    "            article_text = fp.read()\n",
    "\n",
    "        return article_text, self.__label_mapping[target_label]"
   ],
   "metadata": {
    "collapsed": false,
    "pycharm": {
     "name": "#%%\n"
    }
   }
  },
  {
   "cell_type": "code",
   "execution_count": 78,
   "outputs": [],
   "source": [
    "class ArticleProfilerModel(nn.Module):\n",
    "    def __init__(self, dropout=0.5, amount_of_categories=10):\n",
    "        super(ArticleProfilerModel, self).__init__()\n",
    "\n",
    "        config = BertConfig(max_position_embeddings=4096)\n",
    "\n",
    "        self.__tokenizer = BertTokenizer.from_pretrained('bert-base-multilingual-cased')\n",
    "        self.__model = BertModel.from_pretrained(\"bert-base-multilingual-cased\")\n",
    "\n",
    "        # config = DistilBertConfig(max_position_embeddings=4096)\n",
    "\n",
    "        # self.__tokenizer = DistilBertTokenizer.from_pretrained('distilbert-base-multilingual-cased')\n",
    "        # self.__model = DistilBertModel.from_pretrained(\"distilbert-base-multilingual-cased\")\n",
    "\n",
    "        self.__dropout = nn.Dropout(dropout)\n",
    "        self.__linear = nn.Linear(768, amount_of_categories)\n",
    "        self.__relu = nn.ReLU()\n",
    "\n",
    "\n",
    "    def forward(self, text):\n",
    "        encoded_input = self.__tokenizer(text, return_tensors='pt', truncation=True)\n",
    "        output = self.__model(**encoded_input).pooler_output\n",
    "\n",
    "        dropout_output = self.__dropout(output)\n",
    "        linear_output = self.__linear(dropout_output)\n",
    "        final_output = self.__relu(linear_output)\n",
    "\n",
    "        return final_output"
   ],
   "metadata": {
    "collapsed": false,
    "pycharm": {
     "name": "#%%\n"
    }
   }
  },
  {
   "cell_type": "code",
   "execution_count": 90,
   "outputs": [],
   "source": [
    "def train_loop(model, train_dataloader, epochs, loss_fn, optimizer):\n",
    "    for epoch in range(epochs):\n",
    "        size = len(train_dataloader.dataset)\n",
    "        print(f'Epoch {epoch}')\n",
    "        for batch, (X, y) in enumerate(train_dataloader):\n",
    "\n",
    "            prediction = model(X)\n",
    "\n",
    "            loss = loss_fn(prediction, y)\n",
    "\n",
    "            optimizer.zero_grad()\n",
    "            loss.backward()\n",
    "            optimizer.step()\n",
    "\n",
    "\n",
    "            if batch % 100 == 0:\n",
    "                loss, current = loss.item(), batch * len(X)\n",
    "                print(f\"loss: {loss:>7f}  [{current:>5d}/{size:>5d}]\")\n",
    "\n",
    "def test_loop(self, dataloader):\n",
    "        size = len(dataloader.dataset)\n",
    "        num_batches = len(dataloader)\n",
    "        test_loss, correct = 0, 0\n",
    "\n",
    "        with torch.no_grad():\n",
    "            for X, y in dataloader:\n",
    "                pred = self.__model(X)\n",
    "                test_loss += self.__loss_fn(pred, y).item()\n",
    "                correct += (pred.argmax(1) == y).type(torch.float).sum().item()\n",
    "\n",
    "        test_loss /= num_batches\n",
    "        correct /= size\n",
    "        print(f\"Test Error: \\n Accuracy: {(100*correct):>0.1f}%, Avg loss: {test_loss:>8f} \\n\")"
   ],
   "metadata": {
    "collapsed": false,
    "pycharm": {
     "name": "#%%\n"
    }
   }
  },
  {
   "cell_type": "code",
   "execution_count": 91,
   "outputs": [
    {
     "name": "stderr",
     "output_type": "stream",
     "text": [
      "Some weights of the model checkpoint at bert-base-multilingual-cased were not used when initializing BertModel: ['cls.predictions.transform.dense.weight', 'cls.predictions.transform.LayerNorm.weight', 'cls.seq_relationship.weight', 'cls.predictions.bias', 'cls.predictions.transform.dense.bias', 'cls.predictions.transform.LayerNorm.bias', 'cls.predictions.decoder.weight', 'cls.seq_relationship.bias']\n",
      "- This IS expected if you are initializing BertModel from the checkpoint of a model trained on another task or with another architecture (e.g. initializing a BertForSequenceClassification model from a BertForPreTraining model).\n",
      "- This IS NOT expected if you are initializing BertModel from the checkpoint of a model that you expect to be exactly identical (initializing a BertForSequenceClassification model from a BertForSequenceClassification model).\n"
     ]
    }
   ],
   "source": [
    "full_data = pd.read_csv(os.path.join('data', 'full_data.csv'))\n",
    "train_data, test_data = train_test_split(full_data, random_state=RANDOM_STATE)\n",
    "\n",
    "label_mapping = {item: index for index, item in enumerate(full_data['idealogyLabel'].value_counts().keys())}\n",
    "\n",
    "train_dataset = ArticleDataset(train_data, label_mapping)\n",
    "train_dataloader = DataLoader(train_dataset, batch_size=1)\n",
    "\n",
    "test_dataset = ArticleDataset(test_data, label_mapping)\n",
    "test_dataloader = DataLoader(test_dataset, batch_size=1)\n",
    "\n",
    "model = ArticleProfilerModel()\n",
    "\n",
    "learning_rate = 1e-6\n",
    "optimizer = Adam(model.parameters(), lr=learning_rate)"
   ],
   "metadata": {
    "collapsed": false,
    "pycharm": {
     "name": "#%%\n"
    }
   }
  },
  {
   "cell_type": "code",
   "execution_count": null,
   "outputs": [
    {
     "name": "stdout",
     "output_type": "stream",
     "text": [
      "Epoch 0\n"
     ]
    }
   ],
   "source": [
    "train_loop(model, train_dataloader, epochs=10, loss_fn=nn.CrossEntropyLoss(), optimizer=optimizer)"
   ],
   "metadata": {
    "collapsed": false,
    "pycharm": {
     "name": "#%%\n",
     "is_executing": true
    }
   }
  },
  {
   "cell_type": "code",
   "execution_count": 89,
   "outputs": [
    {
     "data": {
      "text/plain": "{'right-wing': 0,\n 'left-wing': 1,\n 'liberalism': 2,\n 'centre-left': 3,\n 'conservatism': 4,\n 'social democracy': 5,\n 'centre-right': 6,\n 'communism': 7,\n 'centrism': 8}"
     },
     "execution_count": 89,
     "metadata": {},
     "output_type": "execute_result"
    }
   ],
   "source": [],
   "metadata": {
    "collapsed": false,
    "pycharm": {
     "name": "#%%\n"
    }
   }
  }
 ],
 "metadata": {
  "kernelspec": {
   "name": "newsarticleprofiling",
   "language": "python",
   "display_name": "NewsArticleProfiling"
  },
  "language_info": {
   "codemirror_mode": {
    "name": "ipython",
    "version": 2
   },
   "file_extension": ".py",
   "mimetype": "text/x-python",
   "name": "python",
   "nbconvert_exporter": "python",
   "pygments_lexer": "ipython2",
   "version": "2.7.6"
  }
 },
 "nbformat": 4,
 "nbformat_minor": 0
}